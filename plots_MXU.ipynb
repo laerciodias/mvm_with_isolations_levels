{
 "cells": [
  {
   "cell_type": "markdown",
   "metadata": {},
   "source": [
    "# In the main branch, this file should be no executed and with no parameters set.\n",
    "# In the development branch, it must be fully executed and must include tests."
   ]
  },
  {
   "cell_type": "code",
   "execution_count": null,
   "metadata": {},
   "outputs": [],
   "source": [
    "%matplotlib inline\n",
    "import matplotlib.pyplot as plt"
   ]
  },
  {
   "cell_type": "code",
   "execution_count": null,
   "metadata": {},
   "outputs": [],
   "source": [
    "import pandas as pd\n",
    "import numpy as np\n",
    "\n",
    "import tools"
   ]
  },
  {
   "cell_type": "code",
   "execution_count": null,
   "metadata": {},
   "outputs": [],
   "source": [
    "plt.rcParams['figure.figsize'] = [8,6]"
   ]
  },
  {
   "cell_type": "markdown",
   "metadata": {},
   "source": [
    "## Parameters"
   ]
  },
  {
   "cell_type": "code",
   "execution_count": null,
   "metadata": {},
   "outputs": [],
   "source": [
    "# Set the path+filename of the database\n",
    "#\n",
    "# Example: \n",
    "# db_path = 'results_databases/bubble_filtering__8_neighbors_squared_network__MXU.csv'\n",
    "# v = 0.4\n",
    "\n",
    "db_path = \n",
    "v = "
   ]
  },
  {
   "cell_type": "markdown",
   "metadata": {},
   "source": [
    "Hereafter, the code should not be modified at the standard usage."
   ]
  },
  {
   "cell_type": "markdown",
   "metadata": {},
   "source": [
    "## Functions"
   ]
  },
  {
   "cell_type": "code",
   "execution_count": null,
   "metadata": {},
   "outputs": [],
   "source": [
    "def test_scale_M_L(q, var_scale='L'):\n",
    "       \n",
    "    df = phys_quant.reset_index().copy()\n",
    "    \n",
    "    df = df[df.q==q]\n",
    "    \n",
    "    if var_scale == 'L':\n",
    "        D = np.sqrt(df.N)\n",
    "    elif var_scale == 'N':\n",
    "        D = np.array(df.N)\n",
    "    else:\n",
    "        raise NotImplementedError(\n",
    "            \"Parameter 'scale_var' is not valid.\") \n",
    "    \n",
    "    df.set_index(['N'])\n",
    "    \n",
    "    r = tools.regression_power_law(np.array(D), np.array(df.M))\n",
    "    \n",
    "    x = np.logspace(np.log10(min(D)),np.log10(max(D)))\n",
    "    y = 10**r.params[0]*x**(r.params[1])\n",
    "    \n",
    "    plt.plot(D, df.M, marker='o', ls='', lw=0.5)\n",
    "    plt.plot(x, y, lw=0.5)\n",
    "    plt.xlabel('%s' % var_scale, fontsize=16)\n",
    "    plt.ylabel('M(q=%.3f)' % q, fontsize=16)\n",
    "    plt.xscale('log')\n",
    "    plt.yscale('log')\n",
    "    plt.show()\n",
    "    \n",
    "    exp_string = tools.express_measure_with_error(r.params[1],\n",
    "                                    np.sqrt(r.cov_params()[1][1]),\n",
    "                                    label='__EMPTY__')\n",
    "                                                 \n",
    "    print('M(q=%.6f) ~ %s^(%s)' % (q, var_scale, exp_string))\n",
    "    print()\n",
    "    print('R² = %.6f' % r.rsquared)\n",
    "    "
   ]
  },
  {
   "cell_type": "markdown",
   "metadata": {},
   "source": [
    "## Main"
   ]
  },
  {
   "cell_type": "code",
   "execution_count": null,
   "metadata": {},
   "outputs": [],
   "source": [
    "# Read the physical quantities database\n",
    "full = pd.read_csv(db_path, index_col=0)\n",
    "\n",
    "# Select the data corresponding to the given visibility v.\n",
    "phys_quant = full[full.v == v]\n",
    "\n",
    "# Get the number of sites\n",
    "N = phys_quant.N.unique()\n",
    "\n",
    "# Set the index to N and q\n",
    "phys_quant.set_index(['N','q'], inplace=True)\n",
    "\n",
    "print('N =', N)"
   ]
  },
  {
   "cell_type": "markdown",
   "metadata": {},
   "source": [
    "### Magnetization"
   ]
  },
  {
   "cell_type": "code",
   "execution_count": null,
   "metadata": {},
   "outputs": [],
   "source": [
    "net_sizes = N[:]\n",
    "\n",
    "for n in net_sizes:\n",
    "    phys_quant.loc[n].M.plot(label='%d' % n, \n",
    "                             yerr=phys_quant.loc[n].M_err)\n",
    "    \n",
    "plt.xlabel('$q$', fontsize=18)\n",
    "plt.ylabel('$M$', fontsize=18)\n",
    "plt.title('Magnetization (with absolute value)', fontsize=18)\n",
    "plt.legend(loc=(1.05,0))\n",
    "\n",
    "#plt.xlim(0,0.051)\n",
    "plt.ylim(-0.05,1.05)\n",
    "\n",
    "plt.show()"
   ]
  },
  {
   "cell_type": "code",
   "execution_count": null,
   "metadata": {},
   "outputs": [],
   "source": [
    "net_sizes = N[-2:]\n",
    "\n",
    "for n in net_sizes:\n",
    "    phys_quant.loc[n].M_noMod.abs().plot(label='%d' % n, marker='.')\n",
    "    \n",
    "plt.xlabel('$q$', fontsize=18)\n",
    "plt.ylabel('$M$', fontsize=18)\n",
    "plt.title('Magnetization (WITHOUT absolute value)', fontsize=18)\n",
    "plt.legend(loc=(1.05,0))\n",
    "\n",
    "#plt.xlim(0,0.051)\n",
    "plt.ylim(-0.05,1.05)\n",
    "\n",
    "plt.show()"
   ]
  },
  {
   "cell_type": "code",
   "execution_count": null,
   "metadata": {},
   "outputs": [],
   "source": [
    "errorBar = True\n",
    "net_sizes = [10000]\n",
    "alpha = 0.6\n",
    "\n",
    "for n in net_sizes:\n",
    "    if errorBar:\n",
    "        phys_quant.loc[n].M.plot(label='N=%d' % n, \n",
    "                yerr=phys_quant.loc[n].M_err, \n",
    "                capsize=3)\n",
    "        phys_quant.loc[n].M_noMod.abs().plot(label='N=%d (noMod)' % n, \n",
    "                capsize=3, yerr=phys_quant.loc[n].M_noMod_err, \n",
    "                alpha=alpha)\n",
    "    else:\n",
    "        phys_quant.loc[n].M.plot(label='N=%d' % n)\n",
    "        phys_quant.loc[n].M_noMod.abs().plot(\n",
    "                    label='N=%d (noMod)' % n, alpha=alpha)\n",
    "    \n",
    "    \n",
    "plt.xlabel('$q$', fontsize=18)\n",
    "plt.ylabel('$M$', fontsize=18)\n",
    "plt.title('Comparing errors between M and M_noMod', fontsize=18)\n",
    "plt.legend(loc=(1.05,0))\n",
    "\n",
    "plt.axhline(0,color='black',lw=0.3)\n",
    "\n",
    "#plt.xlim(0,0.02)\n",
    "plt.ylim(-0.05,1.05)\n",
    "\n",
    "plt.show()"
   ]
  },
  {
   "cell_type": "markdown",
   "metadata": {},
   "source": [
    "### Susceptibility"
   ]
  },
  {
   "cell_type": "code",
   "execution_count": null,
   "metadata": {},
   "outputs": [],
   "source": [
    "net_sizes = N[:]\n",
    "\n",
    "for n in net_sizes:\n",
    "    phys_quant.loc[n].X.plot(label='N=%d' % n, marker='.')\n",
    "\n",
    "plt.xlabel('$q$', fontsize=18)\n",
    "plt.ylabel(r'$\\hspace{0.3}\\chi$', fontsize=18) \n",
    "plt.title('Susceptiblity', fontsize=18)\n",
    "plt.legend(loc='best')\n",
    "\n",
    "plt.xlim(0,0.007)\n",
    "\n",
    "plt.show()"
   ]
  },
  {
   "cell_type": "code",
   "execution_count": null,
   "metadata": {},
   "outputs": [],
   "source": [
    "net_sizes = N[:]\n",
    "\n",
    "for n in net_sizes:\n",
    "    phys_quant.loc[n].X_noMod.plot(label='N=%d' % n, marker='.')\n",
    "\n",
    "#plt.yscale('log') \n",
    "#plt.yscale('log')    \n",
    "    \n",
    "plt.xlabel('$q$', fontsize=18)\n",
    "plt.ylabel(r'$\\hspace{0.3}\\chi$', fontsize=18) \n",
    "plt.title('Susceptiblity (for M_noMod)', fontsize=18)\n",
    "plt.legend(loc='best')\n",
    "\n",
    "plt.xlim(0,0.007)\n",
    "\n",
    "plt.show()"
   ]
  },
  {
   "cell_type": "markdown",
   "metadata": {},
   "source": [
    "### Binder cumulant"
   ]
  },
  {
   "cell_type": "code",
   "execution_count": null,
   "metadata": {},
   "outputs": [],
   "source": [
    "net_sizes = N[:]\n",
    "\n",
    "for n in net_sizes:\n",
    "    phys_quant.loc[n].u.plot(label='N=%d' % n, marker='.',lw=0.3)\n",
    "\n",
    "plt.xlabel('$q$', fontsize=18)\n",
    "plt.ylabel(r'$u = -\\ln\\hspace{0.2}(1-3U/2)$', fontsize=18) \n",
    "plt.title('Binder cumulant', fontsize=18)\n",
    "plt.legend(loc=(1.05,0))\n",
    "\n",
    "plt.xlim(0.0, 0.008)\n",
    "#plt.ylim(1.8,)\n",
    "\n",
    "plt.show()"
   ]
  },
  {
   "cell_type": "markdown",
   "metadata": {},
   "source": [
    "### Scale test for the magnetization far from critical point"
   ]
  },
  {
   "cell_type": "code",
   "execution_count": null,
   "metadata": {},
   "outputs": [],
   "source": [
    "q_max = max(phys_quant.index.levels[1])\n",
    "test_scale_M_L(q_max, var_scale='L')"
   ]
  },
  {
   "cell_type": "markdown",
   "metadata": {},
   "source": [
    "<br><br>\n",
    "## Testing"
   ]
  },
  {
   "cell_type": "code",
   "execution_count": null,
   "metadata": {},
   "outputs": [],
   "source": [
    "# For plots, I test just doing a visual inspection."
   ]
  },
  {
   "cell_type": "code",
   "execution_count": null,
   "metadata": {},
   "outputs": [],
   "source": []
  },
  {
   "cell_type": "code",
   "execution_count": null,
   "metadata": {},
   "outputs": [],
   "source": []
  }
 ],
 "metadata": {
  "kernelspec": {
   "display_name": "Python 3",
   "language": "python",
   "name": "python3"
  },
  "language_info": {
   "codemirror_mode": {
    "name": "ipython",
    "version": 3
   },
   "file_extension": ".py",
   "mimetype": "text/x-python",
   "name": "python",
   "nbconvert_exporter": "python",
   "pygments_lexer": "ipython3",
   "version": "3.6.5"
  }
 },
 "nbformat": 4,
 "nbformat_minor": 2
}
