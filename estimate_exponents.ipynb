{
 "cells": [
  {
   "cell_type": "markdown",
   "metadata": {},
   "source": [
    "# On main branch, this file should be non executed and no parameters set.\n",
    "# On dev_ branch, it must be fully executed and must include tests."
   ]
  },
  {
   "cell_type": "code",
   "execution_count": 1,
   "metadata": {},
   "outputs": [],
   "source": [
    "%matplotlib inline\n",
    "import matplotlib.pyplot as plt"
   ]
  },
  {
   "cell_type": "code",
   "execution_count": 2,
   "metadata": {},
   "outputs": [],
   "source": [
    "import pandas as pd\n",
    "import numpy as np\n",
    "\n",
    "import estimate_critical_q as est_qc\n",
    "import estimate_exponents as est_exps\n",
    "import tools"
   ]
  },
  {
   "cell_type": "markdown",
   "metadata": {},
   "source": [
    "## Notebook Parameters"
   ]
  },
  {
   "cell_type": "code",
   "execution_count": 3,
   "metadata": {},
   "outputs": [],
   "source": [
    "# Set the filename of the database and the visibility parameter v\n",
    "# Example: \n",
    "#\n",
    "# db_path = 'test__phys_quant.csv'\n",
    "# v = 0.5\n",
    "# \n",
    "# OBS: At the development time the file test__full.csv was a copy of\n",
    "# results_databases/bubble_filtering__8_neighbors_squared_network__MXU.csv\n",
    "\n",
    "db_path = 'test__full.csv'\n",
    "v = 0.35"
   ]
  },
  {
   "cell_type": "markdown",
   "metadata": {},
   "source": [
    "## Functions"
   ]
  },
  {
   "cell_type": "code",
   "execution_count": 4,
   "metadata": {},
   "outputs": [],
   "source": [
    "#express_measure_with_error(0.98, 0.099)"
   ]
  },
  {
   "cell_type": "code",
   "execution_count": 5,
   "metadata": {},
   "outputs": [],
   "source": [
    "#express_measure_with_error(1234, 43)"
   ]
  },
  {
   "cell_type": "code",
   "execution_count": 6,
   "metadata": {},
   "outputs": [],
   "source": [
    "#express_measure_with_error(0.98, 0.099, 'A')"
   ]
  },
  {
   "cell_type": "code",
   "execution_count": 7,
   "metadata": {},
   "outputs": [],
   "source": [
    "#express_measure_with_error(1234, 43, 'A')"
   ]
  },
  {
   "cell_type": "markdown",
   "metadata": {},
   "source": [
    "## Main\n",
    "At the normal uses, the below code should not be changed."
   ]
  },
  {
   "cell_type": "code",
   "execution_count": 8,
   "metadata": {},
   "outputs": [
    {
     "name": "stdout",
     "output_type": "stream",
     "text": [
      "N = [  400  1600  3600  6400 10000]\n"
     ]
    }
   ],
   "source": [
    "# Read the physical quantities database\n",
    "full = pd.read_csv(db_path, index_col=0)\n",
    "\n",
    "# Select the data corresponding to the given visibility v.\n",
    "phys_quant = full[full.v == v]\n",
    "\n",
    "# Get the number of sites\n",
    "N = phys_quant.N.unique()\n",
    "\n",
    "# Set the index to N and q\n",
    "phys_quant.set_index(['N','q'], inplace=True)\n",
    "\n",
    "print('N =', N)"
   ]
  },
  {
   "cell_type": "code",
   "execution_count": 9,
   "metadata": {},
   "outputs": [
    {
     "data": {
      "text/html": [
       "<div>\n",
       "<style scoped>\n",
       "    .dataframe tbody tr th:only-of-type {\n",
       "        vertical-align: middle;\n",
       "    }\n",
       "\n",
       "    .dataframe tbody tr th {\n",
       "        vertical-align: top;\n",
       "    }\n",
       "\n",
       "    .dataframe thead th {\n",
       "        text-align: right;\n",
       "    }\n",
       "</style>\n",
       "<table border=\"1\" class=\"dataframe\">\n",
       "  <thead>\n",
       "    <tr style=\"text-align: right;\">\n",
       "      <th></th>\n",
       "      <th></th>\n",
       "      <th>v</th>\n",
       "      <th>M</th>\n",
       "      <th>M_err</th>\n",
       "      <th>M_noMod</th>\n",
       "      <th>M_noMod_err</th>\n",
       "      <th>X</th>\n",
       "      <th>X_noMod</th>\n",
       "      <th>U</th>\n",
       "      <th>u</th>\n",
       "    </tr>\n",
       "    <tr>\n",
       "      <th>N</th>\n",
       "      <th>q</th>\n",
       "      <th></th>\n",
       "      <th></th>\n",
       "      <th></th>\n",
       "      <th></th>\n",
       "      <th></th>\n",
       "      <th></th>\n",
       "      <th></th>\n",
       "      <th></th>\n",
       "      <th></th>\n",
       "    </tr>\n",
       "  </thead>\n",
       "  <tbody>\n",
       "    <tr>\n",
       "      <th rowspan=\"5\" valign=\"top\">400</th>\n",
       "      <th>0.0000</th>\n",
       "      <td>0.35</td>\n",
       "      <td>0.929314</td>\n",
       "      <td>0.001175</td>\n",
       "      <td>0.929314</td>\n",
       "      <td>0.001175</td>\n",
       "      <td>0.470031</td>\n",
       "      <td>0.470031</td>\n",
       "      <td>0.664950</td>\n",
       "      <td>5.962067</td>\n",
       "    </tr>\n",
       "    <tr>\n",
       "      <th>0.0025</th>\n",
       "      <td>0.35</td>\n",
       "      <td>0.915629</td>\n",
       "      <td>0.001568</td>\n",
       "      <td>0.915629</td>\n",
       "      <td>0.001568</td>\n",
       "      <td>0.627140</td>\n",
       "      <td>0.627140</td>\n",
       "      <td>0.664346</td>\n",
       "      <td>5.660639</td>\n",
       "    </tr>\n",
       "    <tr>\n",
       "      <th>0.0050</th>\n",
       "      <td>0.35</td>\n",
       "      <td>0.901901</td>\n",
       "      <td>0.001968</td>\n",
       "      <td>0.901901</td>\n",
       "      <td>0.001968</td>\n",
       "      <td>0.787014</td>\n",
       "      <td>0.787014</td>\n",
       "      <td>0.663687</td>\n",
       "      <td>5.410414</td>\n",
       "    </tr>\n",
       "    <tr>\n",
       "      <th>0.0075</th>\n",
       "      <td>0.35</td>\n",
       "      <td>0.886529</td>\n",
       "      <td>0.002789</td>\n",
       "      <td>0.886529</td>\n",
       "      <td>0.002789</td>\n",
       "      <td>1.115617</td>\n",
       "      <td>1.115617</td>\n",
       "      <td>0.662522</td>\n",
       "      <td>5.080487</td>\n",
       "    </tr>\n",
       "    <tr>\n",
       "      <th>0.0100</th>\n",
       "      <td>0.35</td>\n",
       "      <td>0.869761</td>\n",
       "      <td>0.003461</td>\n",
       "      <td>0.869761</td>\n",
       "      <td>0.003461</td>\n",
       "      <td>1.384395</td>\n",
       "      <td>1.384395</td>\n",
       "      <td>0.661338</td>\n",
       "      <td>4.829217</td>\n",
       "    </tr>\n",
       "  </tbody>\n",
       "</table>\n",
       "</div>"
      ],
      "text/plain": [
       "               v         M     M_err   M_noMod  M_noMod_err         X  \\\n",
       "N   q                                                                   \n",
       "400 0.0000  0.35  0.929314  0.001175  0.929314     0.001175  0.470031   \n",
       "    0.0025  0.35  0.915629  0.001568  0.915629     0.001568  0.627140   \n",
       "    0.0050  0.35  0.901901  0.001968  0.901901     0.001968  0.787014   \n",
       "    0.0075  0.35  0.886529  0.002789  0.886529     0.002789  1.115617   \n",
       "    0.0100  0.35  0.869761  0.003461  0.869761     0.003461  1.384395   \n",
       "\n",
       "             X_noMod         U         u  \n",
       "N   q                                     \n",
       "400 0.0000  0.470031  0.664950  5.962067  \n",
       "    0.0025  0.627140  0.664346  5.660639  \n",
       "    0.0050  0.787014  0.663687  5.410414  \n",
       "    0.0075  1.115617  0.662522  5.080487  \n",
       "    0.0100  1.384395  0.661338  4.829217  "
      ]
     },
     "execution_count": 9,
     "metadata": {},
     "output_type": "execute_result"
    }
   ],
   "source": [
    "phys_quant.head()"
   ]
  },
  {
   "cell_type": "code",
   "execution_count": 10,
   "metadata": {},
   "outputs": [
    {
     "data": {
      "image/png": "[encoded data removed]",
      "text/plain": [
       "<Figure size 576x576 with 1 Axes>"
      ]
     },
     "metadata": {},
     "output_type": "display_data"
    },
    {
     "name": "stdout",
     "output_type": "stream",
     "text": [
      "\n",
      "\n",
      "CRITICAL POINT\n",
      "\n",
      "       q_c = 0.029050 ± 0.000536\n"
     ]
    }
   ],
   "source": [
    "qc, qc_error, best_regs, binder = est_qc.estimate(N[:], phys_quant, \n",
    "                                               #min_half_bandwidth=1,\n",
    "                                               #max_half_bandwidth=3,\n",
    "                                               do_plot=True)"
   ]
  },
  {
   "cell_type": "code",
   "execution_count": 11,
   "metadata": {},
   "outputs": [
    {
     "data": {
      "text/plain": [
       "0.02905032171437636"
      ]
     },
     "execution_count": 11,
     "metadata": {},
     "output_type": "execute_result"
    }
   ],
   "source": [
    "qc"
   ]
  },
  {
   "cell_type": "code",
   "execution_count": 12,
   "metadata": {},
   "outputs": [
    {
     "data": {
      "text/plain": [
       "0.0005356842792635562"
      ]
     },
     "execution_count": 12,
     "metadata": {},
     "output_type": "execute_result"
    }
   ],
   "source": [
    "qc_error"
   ]
  },
  {
   "cell_type": "code",
   "execution_count": 13,
   "metadata": {},
   "outputs": [
    {
     "data": {
      "text/html": [
       "<div>\n",
       "<style scoped>\n",
       "    .dataframe tbody tr th:only-of-type {\n",
       "        vertical-align: middle;\n",
       "    }\n",
       "\n",
       "    .dataframe tbody tr th {\n",
       "        vertical-align: top;\n",
       "    }\n",
       "\n",
       "    .dataframe thead th {\n",
       "        text-align: right;\n",
       "    }\n",
       "</style>\n",
       "<table border=\"1\" class=\"dataframe\">\n",
       "  <thead>\n",
       "    <tr style=\"text-align: right;\">\n",
       "      <th></th>\n",
       "      <th>q</th>\n",
       "      <th>400</th>\n",
       "      <th>1600</th>\n",
       "      <th>3600</th>\n",
       "      <th>6400</th>\n",
       "      <th>10000</th>\n",
       "    </tr>\n",
       "  </thead>\n",
       "  <tbody>\n",
       "    <tr>\n",
       "      <th>7</th>\n",
       "      <td>0.0175</td>\n",
       "      <td>3.938612</td>\n",
       "      <td>5.025131</td>\n",
       "      <td>5.802473</td>\n",
       "      <td>6.284059</td>\n",
       "      <td>6.786119</td>\n",
       "    </tr>\n",
       "    <tr>\n",
       "      <th>8</th>\n",
       "      <td>0.0200</td>\n",
       "      <td>3.478160</td>\n",
       "      <td>4.577541</td>\n",
       "      <td>5.178004</td>\n",
       "      <td>5.865062</td>\n",
       "      <td>6.228353</td>\n",
       "    </tr>\n",
       "    <tr>\n",
       "      <th>9</th>\n",
       "      <td>0.0225</td>\n",
       "      <td>3.228392</td>\n",
       "      <td>4.042514</td>\n",
       "      <td>4.535183</td>\n",
       "      <td>5.223840</td>\n",
       "      <td>5.628116</td>\n",
       "    </tr>\n",
       "    <tr>\n",
       "      <th>10</th>\n",
       "      <td>0.0250</td>\n",
       "      <td>2.833270</td>\n",
       "      <td>3.191273</td>\n",
       "      <td>3.446837</td>\n",
       "      <td>3.984557</td>\n",
       "      <td>4.582993</td>\n",
       "    </tr>\n",
       "    <tr>\n",
       "      <th>11</th>\n",
       "      <td>0.0275</td>\n",
       "      <td>2.544097</td>\n",
       "      <td>2.601975</td>\n",
       "      <td>2.893662</td>\n",
       "      <td>3.009644</td>\n",
       "      <td>2.734407</td>\n",
       "    </tr>\n",
       "    <tr>\n",
       "      <th>12</th>\n",
       "      <td>0.0300</td>\n",
       "      <td>2.243061</td>\n",
       "      <td>1.934210</td>\n",
       "      <td>1.680192</td>\n",
       "      <td>1.489736</td>\n",
       "      <td>1.360769</td>\n",
       "    </tr>\n",
       "    <tr>\n",
       "      <th>13</th>\n",
       "      <td>0.0325</td>\n",
       "      <td>1.943920</td>\n",
       "      <td>1.514971</td>\n",
       "      <td>1.080334</td>\n",
       "      <td>0.714635</td>\n",
       "      <td>0.605069</td>\n",
       "    </tr>\n",
       "    <tr>\n",
       "      <th>14</th>\n",
       "      <td>0.0350</td>\n",
       "      <td>1.631576</td>\n",
       "      <td>0.931930</td>\n",
       "      <td>0.538170</td>\n",
       "      <td>0.408093</td>\n",
       "      <td>0.181591</td>\n",
       "    </tr>\n",
       "  </tbody>\n",
       "</table>\n",
       "</div>"
      ],
      "text/plain": [
       "         q       400      1600      3600      6400     10000\n",
       "7   0.0175  3.938612  5.025131  5.802473  6.284059  6.786119\n",
       "8   0.0200  3.478160  4.577541  5.178004  5.865062  6.228353\n",
       "9   0.0225  3.228392  4.042514  4.535183  5.223840  5.628116\n",
       "10  0.0250  2.833270  3.191273  3.446837  3.984557  4.582993\n",
       "11  0.0275  2.544097  2.601975  2.893662  3.009644  2.734407\n",
       "12  0.0300  2.243061  1.934210  1.680192  1.489736  1.360769\n",
       "13  0.0325  1.943920  1.514971  1.080334  0.714635  0.605069\n",
       "14  0.0350  1.631576  0.931930  0.538170  0.408093  0.181591"
      ]
     },
     "execution_count": 13,
     "metadata": {},
     "output_type": "execute_result"
    }
   ],
   "source": [
    "binder"
   ]
  },
  {
   "cell_type": "code",
   "execution_count": 14,
   "metadata": {},
   "outputs": [
    {
     "data": {
      "text/html": [
       "<div>\n",
       "<style scoped>\n",
       "    .dataframe tbody tr th:only-of-type {\n",
       "        vertical-align: middle;\n",
       "    }\n",
       "\n",
       "    .dataframe tbody tr th {\n",
       "        vertical-align: top;\n",
       "    }\n",
       "\n",
       "    .dataframe thead th {\n",
       "        text-align: right;\n",
       "    }\n",
       "</style>\n",
       "<table border=\"1\" class=\"dataframe\">\n",
       "  <thead>\n",
       "    <tr style=\"text-align: right;\">\n",
       "      <th></th>\n",
       "      <th>qi</th>\n",
       "      <th>qf</th>\n",
       "      <th>coef</th>\n",
       "      <th>interc</th>\n",
       "      <th>R2</th>\n",
       "    </tr>\n",
       "    <tr>\n",
       "      <th>N</th>\n",
       "      <th></th>\n",
       "      <th></th>\n",
       "      <th></th>\n",
       "      <th></th>\n",
       "      <th></th>\n",
       "    </tr>\n",
       "  </thead>\n",
       "  <tbody>\n",
       "    <tr>\n",
       "      <th>400</th>\n",
       "      <td>0.0175</td>\n",
       "      <td>0.035</td>\n",
       "      <td>-128.883878</td>\n",
       "      <td>6.113338</td>\n",
       "      <td>0.996510</td>\n",
       "    </tr>\n",
       "    <tr>\n",
       "      <th>1600</th>\n",
       "      <td>0.0175</td>\n",
       "      <td>0.035</td>\n",
       "      <td>-242.283182</td>\n",
       "      <td>9.337377</td>\n",
       "      <td>0.995050</td>\n",
       "    </tr>\n",
       "    <tr>\n",
       "      <th>3600</th>\n",
       "      <td>0.0175</td>\n",
       "      <td>0.035</td>\n",
       "      <td>-316.460070</td>\n",
       "      <td>11.451434</td>\n",
       "      <td>0.992538</td>\n",
       "    </tr>\n",
       "    <tr>\n",
       "      <th>6400</th>\n",
       "      <td>0.0175</td>\n",
       "      <td>0.035</td>\n",
       "      <td>-376.481560</td>\n",
       "      <td>13.255094</td>\n",
       "      <td>0.978585</td>\n",
       "    </tr>\n",
       "    <tr>\n",
       "      <th>10000</th>\n",
       "      <td>0.0175</td>\n",
       "      <td>0.035</td>\n",
       "      <td>-423.803524</td>\n",
       "      <td>14.638270</td>\n",
       "      <td>0.972159</td>\n",
       "    </tr>\n",
       "  </tbody>\n",
       "</table>\n",
       "</div>"
      ],
      "text/plain": [
       "           qi     qf        coef     interc        R2\n",
       "N                                                    \n",
       "400    0.0175  0.035 -128.883878   6.113338  0.996510\n",
       "1600   0.0175  0.035 -242.283182   9.337377  0.995050\n",
       "3600   0.0175  0.035 -316.460070  11.451434  0.992538\n",
       "6400   0.0175  0.035 -376.481560  13.255094  0.978585\n",
       "10000  0.0175  0.035 -423.803524  14.638270  0.972159"
      ]
     },
     "execution_count": 14,
     "metadata": {},
     "output_type": "execute_result"
    }
   ],
   "source": [
    "best_regs"
   ]
  },
  {
   "cell_type": "code",
   "execution_count": 15,
   "metadata": {},
   "outputs": [
    {
     "data": {
      "text/plain": [
       "'q_c = 0.0291 ± 0.0005'"
      ]
     },
     "execution_count": 15,
     "metadata": {},
     "output_type": "execute_result"
    }
   ],
   "source": [
    "tools.express_measure_with_error(qc, qc_error, label=\"q_c\")"
   ]
  },
  {
   "cell_type": "markdown",
   "metadata": {},
   "source": [
    "Para testar vou ter de salvar uns csv com nome que inicia em test__\n",
    "e confiar que meu codigo aqui está correto.\n",
    "Aparentente está pois tem concordância razoável com o código que eu\n",
    "usava antes.\n",
    "\n",
    "Uma ideia também é eu fornecer o intervalo de valores de q ao invés de\n",
    "calcular automaticamente. Isso é bom para testes de coerência.\n",
    "\n",
    "As variaveis min_half_bandwith and max_half_bandwidth tem algo de incoerente entre si. Talvez fosse bom investigar isso."
   ]
  },
  {
   "cell_type": "markdown",
   "metadata": {},
   "source": [
    "## Set the same value ('L' or 'N' ) for the parameter 'scale_var' in below method calls."
   ]
  },
  {
   "cell_type": "code",
   "execution_count": 16,
   "metadata": {},
   "outputs": [
    {
     "data": {
      "image/png": "[encoded data removed]",
      "text/plain": [
       "<Figure size 576x432 with 1 Axes>"
      ]
     },
     "metadata": {},
     "output_type": "display_data"
    }
   ],
   "source": [
    "beta_nu, beta_nu_err, _1, _2, _3 = est_exps.estimate_exponent(\n",
    "                                    'beta_nu', qc, qc_error, N[:], \n",
    "                                    phys_quant, scale_var='N')"
   ]
  },
  {
   "cell_type": "code",
   "execution_count": 17,
   "metadata": {},
   "outputs": [
    {
     "data": {
      "image/png": "[encoded data removed]",
      "text/plain": [
       "<Figure size 576x432 with 1 Axes>"
      ]
     },
     "metadata": {},
     "output_type": "display_data"
    }
   ],
   "source": [
    "gamma_nu, gamma_nu_err, _1, _2, _3 = est_exps.estimate_exponent(\n",
    "                                    'gamma_nu', qc, qc_error, N[:], \n",
    "                                    phys_quant, scale_var='N')"
   ]
  },
  {
   "cell_type": "code",
   "execution_count": 18,
   "metadata": {},
   "outputs": [
    {
     "data": {
      "image/png": "[encoded data removed]",
      "text/plain": [
       "<Figure size 576x432 with 1 Axes>"
      ]
     },
     "metadata": {},
     "output_type": "display_data"
    }
   ],
   "source": [
    "inv_nu, inv_nu_err, _1, _2, _3 = est_exps.estimate_exponent(\n",
    "                                    'inv_nu', qc, qc_error, N[:], \n",
    "                                    phys_quant, scale_var='N')\n"
   ]
  },
  {
   "cell_type": "code",
   "execution_count": 19,
   "metadata": {},
   "outputs": [
    {
     "name": "stdout",
     "output_type": "stream",
     "text": [
      "D = 1.16 ± 0.03\n"
     ]
    }
   ],
   "source": [
    "D, D_err = est_exps.estimate_D(beta_nu, beta_nu_err, \n",
    "                               gamma_nu, gamma_nu_err)\n",
    "print(tools.express_measure_with_error(D, D_err, label='D'))"
   ]
  },
  {
   "cell_type": "code",
   "execution_count": 28,
   "metadata": {},
   "outputs": [
    {
     "data": {
      "image/png": "[encoded data removed]",
      "text/plain": [
       "<Figure size 504x360 with 1 Axes>"
      ]
     },
     "metadata": {},
     "output_type": "display_data"
    }
   ],
   "source": [
    "est_exps.data_collapse(qc, beta_nu, gamma_nu, inv_nu, N[:],\n",
    "              phys_quant, scale_var='N', quantities_labels=['M'])\n",
    "#plt.xlim(-10,10)\n",
    "#plt.yscale('log')"
   ]
  },
  {
   "cell_type": "code",
   "execution_count": null,
   "metadata": {},
   "outputs": [],
   "source": []
  },
  {
   "cell_type": "code",
   "execution_count": null,
   "metadata": {},
   "outputs": [],
   "source": []
  },
  {
   "cell_type": "code",
   "execution_count": null,
   "metadata": {},
   "outputs": [],
   "source": []
  },
  {
   "cell_type": "code",
   "execution_count": null,
   "metadata": {},
   "outputs": [],
   "source": []
  },
  {
   "cell_type": "code",
   "execution_count": null,
   "metadata": {},
   "outputs": [],
   "source": []
  },
  {
   "cell_type": "code",
   "execution_count": null,
   "metadata": {},
   "outputs": [],
   "source": []
  },
  {
   "cell_type": "markdown",
   "metadata": {},
   "source": [
    "<br><br>\n",
    "## Testing"
   ]
  },
  {
   "cell_type": "code",
   "execution_count": 21,
   "metadata": {},
   "outputs": [],
   "source": [
    "import pandas as pd\n",
    "import unittest\n",
    "import estimate_critical_q as est\n",
    "\n",
    "class Test_estimate_critical_q(unittest.TestCase):\n",
    "    \n",
    "    '''\n",
    "    The test cases included here runs only for the data in the\n",
    "    \n",
    "    bubble_filtering__8_neighbors_squared_network__MXU.csv\n",
    "    \n",
    "    dataset. It is not easy to include cases because it relies on\n",
    "    visual inspection of the binder cumulant plot.\n",
    "    \n",
    "    '''\n",
    "    \n",
    "    def prepare_data(self, v):\n",
    "        \n",
    "        # Select the data corresponding to the given visibility v.\n",
    "        # and set the index to N and q\n",
    "        phys_quant = full[full.v == v]\n",
    "        phys_quant.set_index(['N','q'], inplace=True)\n",
    "        \n",
    "        return phys_quant\n",
    "        \n",
    "        \n",
    "    # test for v = 1.00\n",
    "    def test_v_100(self):\n",
    "        f = est.find_qc_candidate\n",
    "        phys_quant = self.prepare_data(1.00)\n",
    "        self.assertEqual(f(  400, 1600,phys_quant), 0.1425)\n",
    "        self.assertEqual(f(  400, 3600,phys_quant), 0.1450)\n",
    "        self.assertEqual(f(  400, 6400,phys_quant), 0.1425)\n",
    "        self.assertEqual(f(  400,10000,phys_quant), 0.1425)\n",
    "        self.assertEqual(f( 1600, 3600,phys_quant), 0.1450)\n",
    "        self.assertEqual(f( 1600, 6400,phys_quant), 0.1450)\n",
    "        self.assertEqual(f( 1600,10000,phys_quant), 0.1425)\n",
    "        self.assertEqual(f( 3600, 6400,phys_quant), 0.1425)\n",
    "        self.assertEqual(f( 3600,10000,phys_quant), 0.1425)\n",
    "        self.assertEqual(f( 6400,10000,phys_quant), 0.1425)\n",
    "        \n",
    "    # test for v = 0.50\n",
    "    def test_v_050(self):\n",
    "        f = est.find_qc_candidate\n",
    "        phys_quant = self.prepare_data(0.50)\n",
    "        self.assertEqual(f(  400, 1600,phys_quant), 0.0800)\n",
    "        self.assertEqual(f(  400, 3600,phys_quant), 0.0775)\n",
    "        self.assertEqual(f(  400, 6400,phys_quant), 0.0800)\n",
    "        self.assertEqual(f(  400,10000,phys_quant), 0.0775)\n",
    "        self.assertEqual(f( 1600, 3600,phys_quant), 0.0775)\n",
    "        self.assertEqual(f( 1600, 6400,phys_quant), 0.0800)\n",
    "        self.assertEqual(f( 1600,10000,phys_quant), 0.0775)\n",
    "        self.assertEqual(f( 3600, 6400,phys_quant), 0.0800)\n",
    "        self.assertEqual(f( 3600,10000,phys_quant), 0.0775)\n",
    "        self.assertEqual(f( 6400,10000,phys_quant), 0.0725)\n",
    "        \n",
    "\n",
    "        # test for v = 0.25\n",
    "    def test_v_025(self):\n",
    "        f = est.find_qc_candidate\n",
    "        phys_quant = self.prepare_data(0.25)\n",
    "        self.assertEqual(f(  400, 1600,phys_quant), None)\n",
    "        self.assertEqual(f(  400, 3600,phys_quant), None)\n",
    "        self.assertEqual(f(  400, 6400,phys_quant), None)\n",
    "        self.assertEqual(f(  400,10000,phys_quant), None)\n",
    "        self.assertEqual(f( 1600, 3600,phys_quant), 0.002)\n",
    "        self.assertEqual(f( 1600, 6400,phys_quant), 0.002)\n",
    "        self.assertEqual(f( 1600,10000,phys_quant), 0.0005)\n",
    "        self.assertEqual(f( 3600, 6400,phys_quant), 0.0005)\n",
    "        self.assertEqual(f( 3600,10000,phys_quant), 0.0005)\n",
    "        self.assertEqual(f( 6400,10000,phys_quant), 0.0015)"
   ]
  },
  {
   "cell_type": "code",
   "execution_count": 22,
   "metadata": {},
   "outputs": [
    {
     "name": "stderr",
     "output_type": "stream",
     "text": [
      "...\n",
      "----------------------------------------------------------------------\n",
      "Ran 3 tests in 0.061s\n",
      "\n",
      "OK\n"
     ]
    }
   ],
   "source": [
    "db_path = 'test__full.csv'\n",
    "\n",
    "# Read the physical quantities database\n",
    "full = pd.read_csv(db_path, index_col=0)\n",
    "\n",
    "# Run the tests\n",
    "if __name__ == '__main__':\n",
    "    unittest.main(argv=['first-arg-is-ignored'], exit=False)"
   ]
  },
  {
   "cell_type": "code",
   "execution_count": null,
   "metadata": {},
   "outputs": [],
   "source": []
  },
  {
   "cell_type": "code",
   "execution_count": null,
   "metadata": {},
   "outputs": [],
   "source": []
  },
  {
   "cell_type": "code",
   "execution_count": null,
   "metadata": {},
   "outputs": [],
   "source": []
  },
  {
   "cell_type": "code",
   "execution_count": null,
   "metadata": {},
   "outputs": [],
   "source": []
  },
  {
   "cell_type": "code",
   "execution_count": null,
   "metadata": {},
   "outputs": [],
   "source": []
  }
 ],
 "metadata": {
  "kernelspec": {
   "display_name": "Python 3",
   "language": "python",
   "name": "python3"
  },
  "language_info": {
   "codemirror_mode": {
    "name": "ipython",
    "version": 3
   },
   "file_extension": ".py",
   "mimetype": "text/x-python",
   "name": "python",
   "nbconvert_exporter": "python",
   "pygments_lexer": "ipython3",
   "version": "3.6.5"
  }
 },
 "nbformat": 4,
 "nbformat_minor": 2
}
