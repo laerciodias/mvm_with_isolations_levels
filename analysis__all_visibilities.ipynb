{
 "cells": [
  {
   "cell_type": "code",
   "execution_count": null,
   "metadata": {},
   "outputs": [],
   "source": [
    "%matplotlib inline"
   ]
  },
  {
   "cell_type": "code",
   "execution_count": null,
   "metadata": {},
   "outputs": [],
   "source": [
    "import matplotlib.pyplot as plt\n",
    "import numpy as np\n",
    "import pandas as pd"
   ]
  },
  {
   "cell_type": "code",
   "execution_count": null,
   "metadata": {},
   "outputs": [],
   "source": [
    "import estimate_critical_q as est_qc\n",
    "import estimate_exponents as est_exps\n",
    "import tools"
   ]
  },
  {
   "cell_type": "markdown",
   "metadata": {},
   "source": [
    "## Notebook parameters"
   ]
  },
  {
   "cell_type": "code",
   "execution_count": null,
   "metadata": {},
   "outputs": [],
   "source": [
    "db_path = 'results_databases/bubble_filtering__8_neighbors_squared_network__MXU.csv'"
   ]
  },
  {
   "cell_type": "code",
   "execution_count": null,
   "metadata": {},
   "outputs": [],
   "source": [
    "# Read the physical quantities database\n",
    "full_phys_quant = pd.read_csv(db_path, index_col=0)"
   ]
  },
  {
   "cell_type": "code",
   "execution_count": null,
   "metadata": {},
   "outputs": [],
   "source": [
    "# Values of the visibility parameter\n",
    "#\n",
    "vs = full_phys_quant.v.unique()[1:]"
   ]
  },
  {
   "cell_type": "markdown",
   "metadata": {},
   "source": [
    "#### .\n",
    "<br>\n",
    "#### Go to the cell <a href='#..'>after the plots</a>\n",
    "<br>\n",
    "<br>"
   ]
  },
  {
   "cell_type": "code",
   "execution_count": null,
   "metadata": {
    "scrolled": false
   },
   "outputs": [],
   "source": [
    "# Calculate the critical values for all values of visibility\n",
    "\n",
    "critical_quantities = []\n",
    "\n",
    "for v in vs:\n",
    "    \n",
    "    _ = []\n",
    "    \n",
    "    # Select the data corresponding to the given visibility v.\n",
    "    phys_quant = full_phys_quant[full_phys_quant.v == v]\n",
    "    \n",
    "    # Get the number of sites\n",
    "    N = full_phys_quant.N.unique()\n",
    "\n",
    "    # Set the index to N and q\n",
    "    phys_quant.set_index(['N','q'], inplace=True)\n",
    "    \n",
    "    # Estimate the critical q\n",
    "    qc, qc_err, _1, _2 = est_qc.estimate(N, phys_quant, do_plot=True)\n",
    "    \n",
    "    #qc, qc_err = tools.express_measure_with_error(qc, qc_err)\n",
    "    \n",
    "    _.extend([qc, qc_err])\n",
    "    \n",
    "    # Estimate the critical exponents\n",
    "    for x in ['beta_nu', 'gamma_nu', 'inv_nu']:\n",
    "    \n",
    "        exp, exp_err, y_til_0, y_til_0_err, reg_rsquared = est_exps.estimate_exponent(\n",
    "                                    x, qc, N, phys_quant, do_plot=True)\n",
    "        \n",
    "        #exp, exp_err = tools.express_measure_with_error(exp, exp_err)\n",
    "        #y_til_0, y_til_0_err = tools.express_measure_with_error(y_til_0, y_til_0_err)\n",
    "        \n",
    "        _.extend([exp, exp_err, y_til_0, y_til_0_err, reg_rsquared])\n",
    "        \n",
    "        \n",
    "        if x == 'beta_nu':\n",
    "            beta_nu = exp\n",
    "            beta_nu_err = exp_err\n",
    "            \n",
    "        if x == 'gamma_nu':\n",
    "            gamma_nu = exp\n",
    "            gamma_nu_err = exp_err\n",
    "            \n",
    "        if x == 'inv_nu':\n",
    "            inv_nu = exp\n",
    "    \n",
    "    # Estimate the effective dimension\n",
    "    D, D_err = est_exps.estimate_D(beta_nu, beta_nu_err, gamma_nu, gamma_nu_err)\n",
    "    \n",
    "    #D, D_err = tools.express_measure_with_error(D, D_err)\n",
    "        \n",
    "    _.extend([D, D_err])\n",
    "    \n",
    "    # Do data collapse plots\n",
    "    est_exps.data_collapse(qc, beta_nu, gamma_nu, inv_nu, N, phys_quant, \n",
    "                           plot_title = 'Visibility v = %.2f' % v)\n",
    "    \n",
    "    print('\\n\\n\\n\\n\\n\\n\\n\\n')\n",
    "    print('============================================================================')\n",
    "    print('\\n\\n\\n\\n\\n\\n\\n\\n')\n",
    "    \n",
    "    critical_quantities.append(_)\n",
    "    \n",
    "    \n",
    "    \n",
    "# Create an data frame to store the critical quantities \n",
    "# for each value of the visibility parameter.\n",
    "cols = ['qc', 'qc_err', \n",
    "           'beta_nu', 'beta_nu_err', 'M_til_0', 'M_til_0_err', 'beta_nu_R2',\n",
    "           'gamma_nu', 'gamma_nu_err', 'X_til_0', 'X_til_0_err', 'gamma_nu_R2',\n",
    "           'inv_nu', 'inv_nu_err', 'dU_til_0', 'dU_til_0_err', 'inv_nu_R2',\n",
    "           'D', 'D_err'\n",
    "          ]\n",
    "\n",
    "critical_quantities = pd.DataFrame(columns=cols, data=critical_quantities, index=vs)"
   ]
  },
  {
   "cell_type": "markdown",
   "metadata": {},
   "source": [
    "#### ..\n",
    "<br>\n",
    "#### Go to the cell <a href='#.'>before the plots</a>\n",
    "<br>\n",
    "<br>"
   ]
  },
  {
   "cell_type": "code",
   "execution_count": null,
   "metadata": {},
   "outputs": [],
   "source": []
  },
  {
   "cell_type": "code",
   "execution_count": null,
   "metadata": {},
   "outputs": [],
   "source": [
    "def plot_v_dep(var, var_err):\n",
    "    plt.figure(figsize=(8,6))\n",
    "\n",
    "    critical_quantities[var].plot(lw=0.5, color='black')\n",
    "    inf_l = critical_quantities[var] - critical_quantities[var_err]\n",
    "    sup_l = critical_quantities[var] + critical_quantities[var_err]\n",
    "    plt.fill_between(critical_quantities.index, inf_l, sup_l, alpha=0.5, color='orange')\n",
    "\n",
    "    plt.xlabel('v', fontsize=16)\n",
    "    plt.ylabel(var, fontsize=16)"
   ]
  },
  {
   "cell_type": "code",
   "execution_count": null,
   "metadata": {},
   "outputs": [],
   "source": []
  },
  {
   "cell_type": "code",
   "execution_count": null,
   "metadata": {},
   "outputs": [],
   "source": [
    "plot_v_dep('qc', 'qc_err')"
   ]
  },
  {
   "cell_type": "code",
   "execution_count": null,
   "metadata": {},
   "outputs": [],
   "source": [
    "plot_v_dep('beta_nu', 'beta_nu_err')\n",
    "plt.ylim(0,1);"
   ]
  },
  {
   "cell_type": "code",
   "execution_count": null,
   "metadata": {},
   "outputs": [],
   "source": [
    "plot_v_dep('M_til_0', 'M_til_0_err')\n",
    "plt.ylim(0,2);"
   ]
  },
  {
   "cell_type": "code",
   "execution_count": null,
   "metadata": {},
   "outputs": [],
   "source": [
    "plot_v_dep('gamma_nu', 'gamma_nu_err')\n",
    "plt.ylim(0,1.2);"
   ]
  },
  {
   "cell_type": "code",
   "execution_count": null,
   "metadata": {},
   "outputs": [],
   "source": [
    "plot_v_dep('X_til_0', 'X_til_0_err')\n",
    "plt.ylim(0,1);"
   ]
  },
  {
   "cell_type": "code",
   "execution_count": null,
   "metadata": {},
   "outputs": [],
   "source": [
    "plot_v_dep('inv_nu', 'inv_nu_err')\n",
    "plt.ylim(0, 2);"
   ]
  },
  {
   "cell_type": "code",
   "execution_count": null,
   "metadata": {},
   "outputs": [],
   "source": [
    "plot_v_dep('dU_til_0', 'dU_til_0_err')"
   ]
  },
  {
   "cell_type": "code",
   "execution_count": null,
   "metadata": {},
   "outputs": [],
   "source": [
    "plot_v_dep('D', 'D_err')\n",
    "plt.ylim(0,2);"
   ]
  },
  {
   "cell_type": "code",
   "execution_count": null,
   "metadata": {},
   "outputs": [],
   "source": [
    "critical_quantities"
   ]
  },
  {
   "cell_type": "code",
   "execution_count": null,
   "metadata": {},
   "outputs": [],
   "source": [
    "critical_quantities.beta_nu_R2.plot()\n",
    "plt.title(r'$\\beta/\\nu$', fontsize=18)\n",
    "plt.xlabel(r'$v$', fontsize=16)\n",
    "plt.ylabel(r'$R^2$', fontsize=16)\n",
    "plt.ylim(-0.05,1.05);"
   ]
  },
  {
   "cell_type": "code",
   "execution_count": null,
   "metadata": {},
   "outputs": [],
   "source": [
    "critical_quantities.gamma_nu_R2.plot()\n",
    "plt.title(r'$\\gamma/\\nu$', fontsize=18)\n",
    "plt.xlabel(r'$v$', fontsize=16)\n",
    "plt.ylabel(r'$R^2$', fontsize=16)\n",
    "plt.ylim(-0.05,1.05);"
   ]
  },
  {
   "cell_type": "code",
   "execution_count": null,
   "metadata": {},
   "outputs": [],
   "source": [
    "critical_quantities.inv_nu_R2.plot()\n",
    "plt.title(r'$1/\\nu$', fontsize=18)\n",
    "plt.xlabel(r'$v$', fontsize=16)\n",
    "plt.ylabel(r'$R^2$', fontsize=16)\n",
    "plt.ylim(-0.05,1.05);"
   ]
  },
  {
   "cell_type": "code",
   "execution_count": null,
   "metadata": {},
   "outputs": [],
   "source": []
  },
  {
   "cell_type": "code",
   "execution_count": null,
   "metadata": {},
   "outputs": [],
   "source": []
  },
  {
   "cell_type": "code",
   "execution_count": null,
   "metadata": {},
   "outputs": [],
   "source": []
  },
  {
   "cell_type": "code",
   "execution_count": null,
   "metadata": {},
   "outputs": [],
   "source": []
  },
  {
   "cell_type": "code",
   "execution_count": null,
   "metadata": {},
   "outputs": [],
   "source": []
  },
  {
   "cell_type": "code",
   "execution_count": null,
   "metadata": {},
   "outputs": [],
   "source": []
  },
  {
   "cell_type": "code",
   "execution_count": null,
   "metadata": {},
   "outputs": [],
   "source": []
  },
  {
   "cell_type": "code",
   "execution_count": null,
   "metadata": {},
   "outputs": [],
   "source": []
  },
  {
   "cell_type": "code",
   "execution_count": null,
   "metadata": {},
   "outputs": [],
   "source": []
  },
  {
   "cell_type": "code",
   "execution_count": null,
   "metadata": {},
   "outputs": [],
   "source": []
  },
  {
   "cell_type": "code",
   "execution_count": null,
   "metadata": {},
   "outputs": [],
   "source": []
  },
  {
   "cell_type": "code",
   "execution_count": null,
   "metadata": {},
   "outputs": [],
   "source": []
  },
  {
   "cell_type": "code",
   "execution_count": null,
   "metadata": {},
   "outputs": [],
   "source": []
  },
  {
   "cell_type": "code",
   "execution_count": null,
   "metadata": {},
   "outputs": [],
   "source": []
  },
  {
   "cell_type": "code",
   "execution_count": null,
   "metadata": {},
   "outputs": [],
   "source": []
  },
  {
   "cell_type": "code",
   "execution_count": null,
   "metadata": {},
   "outputs": [],
   "source": []
  },
  {
   "cell_type": "code",
   "execution_count": null,
   "metadata": {},
   "outputs": [],
   "source": []
  },
  {
   "cell_type": "code",
   "execution_count": null,
   "metadata": {},
   "outputs": [],
   "source": []
  },
  {
   "cell_type": "code",
   "execution_count": null,
   "metadata": {},
   "outputs": [],
   "source": []
  }
 ],
 "metadata": {
  "kernelspec": {
   "display_name": "Python 3",
   "language": "python",
   "name": "python3"
  },
  "language_info": {
   "codemirror_mode": {
    "name": "ipython",
    "version": 3
   },
   "file_extension": ".py",
   "mimetype": "text/x-python",
   "name": "python",
   "nbconvert_exporter": "python",
   "pygments_lexer": "ipython3",
   "version": "3.6.5"
  }
 },
 "nbformat": 4,
 "nbformat_minor": 2
}
