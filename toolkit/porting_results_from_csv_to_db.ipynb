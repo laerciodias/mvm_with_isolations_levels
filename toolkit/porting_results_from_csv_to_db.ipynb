{
 "cells": [
  {
   "cell_type": "markdown",
   "metadata": {},
   "source": [
    "# In the main branch, this file should be no executed and with no parameters set.\n",
    "# In the development branch, it must be fully executed and must include tests."
   ]
  },
  {
   "cell_type": "markdown",
   "metadata": {},
   "source": [
    "GOAL: generate an SQLite DB from the CSV files at a given path."
   ]
  },
  {
   "cell_type": "code",
   "execution_count": 1,
   "metadata": {},
   "outputs": [],
   "source": [
    "import numpy as np\n",
    "import pandas as pd\n",
    "import os\n",
    "import sqlite3"
   ]
  },
  {
   "cell_type": "markdown",
   "metadata": {},
   "source": [
    "## Parameters"
   ]
  },
  {
   "cell_type": "code",
   "execution_count": 2,
   "metadata": {},
   "outputs": [],
   "source": [
    "# Set the path and the file name of the SQLite DB to store the results.\n",
    "#\n",
    "# Example:\n",
    "# \n",
    "# path = '/home/laercio/Dropbox/pesquisa/2017-voterModel/'\n",
    "# path += 'code/resultados_e_analises/'\n",
    "# path += '002__bubble_filtering__8_neighbors_squared_network/'\n",
    "# path += 'raw_results/'     # Too long path... does not fit my screen.\n",
    "#\n",
    "# db_filename = 'test.db'\n",
    "\n",
    "path = '/home/laercio/Dropbox/pesquisa/2017-voterModel/'\n",
    "path += 'code/resultados_e_analises/'\n",
    "path += '002__bubble_filtering__8_neighbors_squared_network/'\n",
    "path += 'raw_results/'     # Too long path... does not fit my screen.\n",
    "\n",
    "db_filename = 'test.db'"
   ]
  },
  {
   "cell_type": "markdown",
   "metadata": {},
   "source": [
    "## Main"
   ]
  },
  {
   "cell_type": "code",
   "execution_count": 3,
   "metadata": {},
   "outputs": [],
   "source": [
    "# fl - The file list of csv files at the path.\n",
    "fl = os.listdir(path)\n",
    "fl = [i for i in fl if i.endswith('.csv')]\n",
    "fl.sort()"
   ]
  },
  {
   "cell_type": "code",
   "execution_count": 4,
   "metadata": {},
   "outputs": [
    {
     "name": "stdout",
     "output_type": "stream",
     "text": [
      "CPU times: user 208 ms, sys: 16.4 ms, total: 224 ms\n",
      "Wall time: 503 ms\n"
     ]
    }
   ],
   "source": [
    "%%time\n",
    "\n",
    "# concatenate all the csv files.\n",
    "\n",
    "full = pd.DataFrame(columns=['v', 'N', 'q', 'net', 'rep', \n",
    "                             'mT', 'm2T', 'm4T', 'mT_noMod', \n",
    "                             'std_', 'std_noMod'])\n",
    "\n",
    "for f in fl:\n",
    "    df = pd.read_csv(path + f, index_col=0)\n",
    "    v = float(f[2:6])\n",
    "    df_temp = pd.DataFrame(data=v*np.ones(len(df)), index=df.index, \n",
    "                           columns=['v'])\n",
    "    df = pd.concat([df_temp, df], axis=1)\n",
    "    full = pd.concat([full, df])"
   ]
  },
  {
   "cell_type": "code",
   "execution_count": 5,
   "metadata": {},
   "outputs": [
    {
     "data": {
      "text/html": [
       "<div>\n",
       "<style scoped>\n",
       "    .dataframe tbody tr th:only-of-type {\n",
       "        vertical-align: middle;\n",
       "    }\n",
       "\n",
       "    .dataframe tbody tr th {\n",
       "        vertical-align: top;\n",
       "    }\n",
       "\n",
       "    .dataframe thead th {\n",
       "        text-align: right;\n",
       "    }\n",
       "</style>\n",
       "<table border=\"1\" class=\"dataframe\">\n",
       "  <thead>\n",
       "    <tr style=\"text-align: right;\">\n",
       "      <th></th>\n",
       "      <th>v</th>\n",
       "      <th>N</th>\n",
       "      <th>q</th>\n",
       "      <th>net</th>\n",
       "      <th>rep</th>\n",
       "      <th>mT</th>\n",
       "      <th>m2T</th>\n",
       "      <th>m4T</th>\n",
       "      <th>mT_noMod</th>\n",
       "      <th>std_</th>\n",
       "      <th>std_noMod</th>\n",
       "    </tr>\n",
       "  </thead>\n",
       "  <tbody>\n",
       "    <tr>\n",
       "      <th>0</th>\n",
       "      <td>0.25</td>\n",
       "      <td>400</td>\n",
       "      <td>0.0000</td>\n",
       "      <td>-1</td>\n",
       "      <td>1</td>\n",
       "      <td>0.206236</td>\n",
       "      <td>0.063894</td>\n",
       "      <td>0.010397</td>\n",
       "      <td>-0.001027</td>\n",
       "      <td>0.146153</td>\n",
       "      <td>0.252770</td>\n",
       "    </tr>\n",
       "    <tr>\n",
       "      <th>1</th>\n",
       "      <td>0.25</td>\n",
       "      <td>400</td>\n",
       "      <td>0.0005</td>\n",
       "      <td>-1</td>\n",
       "      <td>1</td>\n",
       "      <td>0.201640</td>\n",
       "      <td>0.061150</td>\n",
       "      <td>0.009585</td>\n",
       "      <td>-0.004404</td>\n",
       "      <td>0.143147</td>\n",
       "      <td>0.247245</td>\n",
       "    </tr>\n",
       "    <tr>\n",
       "      <th>2</th>\n",
       "      <td>0.25</td>\n",
       "      <td>400</td>\n",
       "      <td>0.0010</td>\n",
       "      <td>-1</td>\n",
       "      <td>1</td>\n",
       "      <td>0.204047</td>\n",
       "      <td>0.062297</td>\n",
       "      <td>0.009877</td>\n",
       "      <td>0.008375</td>\n",
       "      <td>0.143741</td>\n",
       "      <td>0.249452</td>\n",
       "    </tr>\n",
       "    <tr>\n",
       "      <th>3</th>\n",
       "      <td>0.25</td>\n",
       "      <td>400</td>\n",
       "      <td>0.0015</td>\n",
       "      <td>-1</td>\n",
       "      <td>1</td>\n",
       "      <td>0.201144</td>\n",
       "      <td>0.060938</td>\n",
       "      <td>0.009605</td>\n",
       "      <td>-0.001429</td>\n",
       "      <td>0.143104</td>\n",
       "      <td>0.246852</td>\n",
       "    </tr>\n",
       "    <tr>\n",
       "      <th>4</th>\n",
       "      <td>0.25</td>\n",
       "      <td>400</td>\n",
       "      <td>0.0020</td>\n",
       "      <td>-1</td>\n",
       "      <td>1</td>\n",
       "      <td>0.199880</td>\n",
       "      <td>0.059965</td>\n",
       "      <td>0.009207</td>\n",
       "      <td>-0.005571</td>\n",
       "      <td>0.141466</td>\n",
       "      <td>0.244814</td>\n",
       "    </tr>\n",
       "  </tbody>\n",
       "</table>\n",
       "</div>"
      ],
      "text/plain": [
       "      v    N       q net rep        mT       m2T       m4T  mT_noMod  \\\n",
       "0  0.25  400  0.0000  -1   1  0.206236  0.063894  0.010397 -0.001027   \n",
       "1  0.25  400  0.0005  -1   1  0.201640  0.061150  0.009585 -0.004404   \n",
       "2  0.25  400  0.0010  -1   1  0.204047  0.062297  0.009877  0.008375   \n",
       "3  0.25  400  0.0015  -1   1  0.201144  0.060938  0.009605 -0.001429   \n",
       "4  0.25  400  0.0020  -1   1  0.199880  0.059965  0.009207 -0.005571   \n",
       "\n",
       "       std_  std_noMod  \n",
       "0  0.146153   0.252770  \n",
       "1  0.143147   0.247245  \n",
       "2  0.143741   0.249452  \n",
       "3  0.143104   0.246852  \n",
       "4  0.141466   0.244814  "
      ]
     },
     "execution_count": 5,
     "metadata": {},
     "output_type": "execute_result"
    }
   ],
   "source": [
    "# Have a glance at the concatenation result.\n",
    "full.head()"
   ]
  },
  {
   "cell_type": "code",
   "execution_count": 6,
   "metadata": {},
   "outputs": [
    {
     "data": {
      "text/plain": [
       "(9483, 11)"
      ]
     },
     "execution_count": 6,
     "metadata": {},
     "output_type": "execute_result"
    }
   ],
   "source": [
    "full.shape\n",
    "\n",
    "# Expected: (9483, 11)"
   ]
  },
  {
   "cell_type": "code",
   "execution_count": 7,
   "metadata": {},
   "outputs": [],
   "source": [
    "# Delete results with standard deviation bigger than one \n",
    "# (they are spurious).\n",
    "\n",
    "full = full[full.std_ <= 1]"
   ]
  },
  {
   "cell_type": "code",
   "execution_count": 8,
   "metadata": {},
   "outputs": [
    {
     "data": {
      "text/plain": [
       "(9440, 11)"
      ]
     },
     "execution_count": 8,
     "metadata": {},
     "output_type": "execute_result"
    }
   ],
   "source": [
    "full.shape\n",
    "\n",
    "# Expected: (9440, 11)"
   ]
  },
  {
   "cell_type": "code",
   "execution_count": 9,
   "metadata": {},
   "outputs": [],
   "source": [
    "# Write the pandas data frame to the SQL db.\n",
    "\n",
    "conn = sqlite3.connect(db_filename)\n",
    "full.to_sql('temporal_mean_results', conn)\n",
    "conn.close()"
   ]
  },
  {
   "cell_type": "markdown",
   "metadata": {},
   "source": [
    "## Testing"
   ]
  },
  {
   "cell_type": "code",
   "execution_count": 10,
   "metadata": {},
   "outputs": [],
   "source": [
    "# Read the sqlite db to a pandas data frame.\n",
    "\n",
    "conn = sqlite3.connect(db_filename)\n",
    "\n",
    "test = pd.read_sql('SELECT * FROM temporal_mean_results', conn,\n",
    "                   index_col = 'index'\n",
    "                  )\n",
    "conn.close()"
   ]
  },
  {
   "cell_type": "code",
   "execution_count": 11,
   "metadata": {},
   "outputs": [
    {
     "data": {
      "text/plain": [
       "True"
      ]
     },
     "execution_count": 11,
     "metadata": {},
     "output_type": "execute_result"
    }
   ],
   "source": [
    "test.shape == (9440, 11)"
   ]
  },
  {
   "cell_type": "code",
   "execution_count": 12,
   "metadata": {},
   "outputs": [
    {
     "data": {
      "text/html": [
       "<div>\n",
       "<style scoped>\n",
       "    .dataframe tbody tr th:only-of-type {\n",
       "        vertical-align: middle;\n",
       "    }\n",
       "\n",
       "    .dataframe tbody tr th {\n",
       "        vertical-align: top;\n",
       "    }\n",
       "\n",
       "    .dataframe thead th {\n",
       "        text-align: right;\n",
       "    }\n",
       "</style>\n",
       "<table border=\"1\" class=\"dataframe\">\n",
       "  <thead>\n",
       "    <tr style=\"text-align: right;\">\n",
       "      <th></th>\n",
       "      <th>v</th>\n",
       "      <th>N</th>\n",
       "      <th>q</th>\n",
       "      <th>net</th>\n",
       "      <th>rep</th>\n",
       "      <th>mT</th>\n",
       "      <th>m2T</th>\n",
       "      <th>m4T</th>\n",
       "      <th>mT_noMod</th>\n",
       "      <th>std_</th>\n",
       "      <th>std_noMod</th>\n",
       "    </tr>\n",
       "    <tr>\n",
       "      <th>index</th>\n",
       "      <th></th>\n",
       "      <th></th>\n",
       "      <th></th>\n",
       "      <th></th>\n",
       "      <th></th>\n",
       "      <th></th>\n",
       "      <th></th>\n",
       "      <th></th>\n",
       "      <th></th>\n",
       "      <th></th>\n",
       "      <th></th>\n",
       "    </tr>\n",
       "  </thead>\n",
       "  <tbody>\n",
       "    <tr>\n",
       "      <th>0</th>\n",
       "      <td>0.25</td>\n",
       "      <td>400</td>\n",
       "      <td>0.0000</td>\n",
       "      <td>-1</td>\n",
       "      <td>1</td>\n",
       "      <td>0.206236</td>\n",
       "      <td>0.063894</td>\n",
       "      <td>0.010397</td>\n",
       "      <td>-0.001027</td>\n",
       "      <td>0.146153</td>\n",
       "      <td>0.252770</td>\n",
       "    </tr>\n",
       "    <tr>\n",
       "      <th>1</th>\n",
       "      <td>0.25</td>\n",
       "      <td>400</td>\n",
       "      <td>0.0005</td>\n",
       "      <td>-1</td>\n",
       "      <td>1</td>\n",
       "      <td>0.201640</td>\n",
       "      <td>0.061150</td>\n",
       "      <td>0.009585</td>\n",
       "      <td>-0.004404</td>\n",
       "      <td>0.143147</td>\n",
       "      <td>0.247245</td>\n",
       "    </tr>\n",
       "    <tr>\n",
       "      <th>2</th>\n",
       "      <td>0.25</td>\n",
       "      <td>400</td>\n",
       "      <td>0.0010</td>\n",
       "      <td>-1</td>\n",
       "      <td>1</td>\n",
       "      <td>0.204047</td>\n",
       "      <td>0.062297</td>\n",
       "      <td>0.009877</td>\n",
       "      <td>0.008375</td>\n",
       "      <td>0.143741</td>\n",
       "      <td>0.249452</td>\n",
       "    </tr>\n",
       "    <tr>\n",
       "      <th>3</th>\n",
       "      <td>0.25</td>\n",
       "      <td>400</td>\n",
       "      <td>0.0015</td>\n",
       "      <td>-1</td>\n",
       "      <td>1</td>\n",
       "      <td>0.201144</td>\n",
       "      <td>0.060938</td>\n",
       "      <td>0.009605</td>\n",
       "      <td>-0.001429</td>\n",
       "      <td>0.143104</td>\n",
       "      <td>0.246852</td>\n",
       "    </tr>\n",
       "    <tr>\n",
       "      <th>4</th>\n",
       "      <td>0.25</td>\n",
       "      <td>400</td>\n",
       "      <td>0.0020</td>\n",
       "      <td>-1</td>\n",
       "      <td>1</td>\n",
       "      <td>0.199880</td>\n",
       "      <td>0.059965</td>\n",
       "      <td>0.009207</td>\n",
       "      <td>-0.005571</td>\n",
       "      <td>0.141466</td>\n",
       "      <td>0.244814</td>\n",
       "    </tr>\n",
       "  </tbody>\n",
       "</table>\n",
       "</div>"
      ],
      "text/plain": [
       "          v    N       q  net  rep        mT       m2T       m4T  mT_noMod  \\\n",
       "index                                                                        \n",
       "0      0.25  400  0.0000   -1    1  0.206236  0.063894  0.010397 -0.001027   \n",
       "1      0.25  400  0.0005   -1    1  0.201640  0.061150  0.009585 -0.004404   \n",
       "2      0.25  400  0.0010   -1    1  0.204047  0.062297  0.009877  0.008375   \n",
       "3      0.25  400  0.0015   -1    1  0.201144  0.060938  0.009605 -0.001429   \n",
       "4      0.25  400  0.0020   -1    1  0.199880  0.059965  0.009207 -0.005571   \n",
       "\n",
       "           std_  std_noMod  \n",
       "index                       \n",
       "0      0.146153   0.252770  \n",
       "1      0.143147   0.247245  \n",
       "2      0.143741   0.249452  \n",
       "3      0.143104   0.246852  \n",
       "4      0.141466   0.244814  "
      ]
     },
     "execution_count": 12,
     "metadata": {},
     "output_type": "execute_result"
    }
   ],
   "source": [
    "test.head()"
   ]
  },
  {
   "cell_type": "code",
   "execution_count": 13,
   "metadata": {},
   "outputs": [
    {
     "name": "stdout",
     "output_type": "stream",
     "text": [
      "        v 0.0\n",
      "        N 0.0\n",
      "        q 0.0\n",
      "      net 0.0\n",
      "      rep 0.0\n",
      "       mT 0.0\n",
      "      m2T 0.0\n",
      "      m4T 0.0\n",
      " mT_noMod 0.0\n",
      "     std_ 0.0\n",
      "std_noMod 0.0\n"
     ]
    }
   ],
   "source": [
    "# Check that the means of columns are OK.\n",
    "# The difference must be zero.\n",
    "\n",
    "for i in full.columns:\n",
    "    print('%9s' % i, np.mean(full[i] - test[i]))"
   ]
  },
  {
   "cell_type": "code",
   "execution_count": 14,
   "metadata": {},
   "outputs": [
    {
     "data": {
      "text/plain": [
       "1.0"
      ]
     },
     "execution_count": 14,
     "metadata": {},
     "output_type": "execute_result"
    }
   ],
   "source": [
    "# Check if the data frames have the same columns.\n",
    "\n",
    "(full.columns == test.columns).mean()"
   ]
  },
  {
   "cell_type": "code",
   "execution_count": 15,
   "metadata": {},
   "outputs": [
    {
     "data": {
      "text/plain": [
       "1.0"
      ]
     },
     "execution_count": 15,
     "metadata": {},
     "output_type": "execute_result"
    }
   ],
   "source": [
    "# Check if the data frames have the same index.\n",
    "\n",
    "(full.index == test.index).mean()"
   ]
  },
  {
   "cell_type": "code",
   "execution_count": null,
   "metadata": {},
   "outputs": [],
   "source": []
  },
  {
   "cell_type": "code",
   "execution_count": null,
   "metadata": {},
   "outputs": [],
   "source": []
  }
 ],
 "metadata": {
  "kernelspec": {
   "display_name": "Python 3",
   "language": "python",
   "name": "python3"
  },
  "language_info": {
   "codemirror_mode": {
    "name": "ipython",
    "version": 3
   },
   "file_extension": ".py",
   "mimetype": "text/x-python",
   "name": "python",
   "nbconvert_exporter": "python",
   "pygments_lexer": "ipython3",
   "version": "3.6.5"
  }
 },
 "nbformat": 4,
 "nbformat_minor": 2
}
