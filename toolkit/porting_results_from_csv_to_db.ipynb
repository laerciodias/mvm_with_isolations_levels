{
 "cells": [
  {
   "cell_type": "markdown",
   "metadata": {},
   "source": [
    "# In the main branch, this file should be no executed and with no parameters set.\n",
    "# In the development branch, it must be fully executed and must include tests."
   ]
  },
  {
   "cell_type": "markdown",
   "metadata": {},
   "source": [
    "GOAL: generate an SQLite DB from the CSV files at a given path."
   ]
  },
  {
   "cell_type": "code",
   "execution_count": null,
   "metadata": {},
   "outputs": [],
   "source": [
    "import numpy as np\n",
    "import pandas as pd\n",
    "import os\n",
    "import sqlite3"
   ]
  },
  {
   "cell_type": "markdown",
   "metadata": {},
   "source": [
    "## Parameters"
   ]
  },
  {
   "cell_type": "code",
   "execution_count": null,
   "metadata": {},
   "outputs": [],
   "source": [
    "# Set the path and the file name of the SQLite DB to store the results.\n",
    "#\n",
    "# Example:\n",
    "# \n",
    "# path = '/home/laercio/Dropbox/pesquisa/2017-voterModel/'\n",
    "# path += 'code/resultados_e_analises/'\n",
    "# path += '002__bubble_filtering__8_neighbors_squared_network/'\n",
    "# path += 'raw_results/'     # Too long path... does not fit my screen.\n",
    "#\n",
    "# db_filename = 'test.db'\n",
    "\n",
    "path =      \n",
    "\n",
    "db_filename = "
   ]
  },
  {
   "cell_type": "markdown",
   "metadata": {},
   "source": [
    "## Main"
   ]
  },
  {
   "cell_type": "code",
   "execution_count": null,
   "metadata": {},
   "outputs": [],
   "source": [
    "# fl - The file list of csv files at the path.\n",
    "fl = os.listdir(path)\n",
    "fl = [i for i in fl if i.endswith('.csv')]\n",
    "fl.sort()"
   ]
  },
  {
   "cell_type": "code",
   "execution_count": null,
   "metadata": {},
   "outputs": [],
   "source": [
    "%%time\n",
    "\n",
    "# concatenate all the csv files.\n",
    "\n",
    "full = pd.DataFrame(columns=['v', 'N', 'q', 'net', 'rep', \n",
    "                             'mT', 'm2T', 'm4T', 'mT_noMod', \n",
    "                             'std_', 'std_noMod'])\n",
    "\n",
    "for f in fl:\n",
    "    df = pd.read_csv(path + f, index_col=0)\n",
    "    v = float(f[2:6])\n",
    "    df_temp = pd.DataFrame(data=v*np.ones(len(df)), index=df.index, \n",
    "                           columns=['v'])\n",
    "    df = pd.concat([df_temp, df], axis=1)\n",
    "    full = pd.concat([full, df])"
   ]
  },
  {
   "cell_type": "code",
   "execution_count": null,
   "metadata": {},
   "outputs": [],
   "source": [
    "# Have a glance at the concatenation result.\n",
    "full.head()"
   ]
  },
  {
   "cell_type": "code",
   "execution_count": null,
   "metadata": {},
   "outputs": [],
   "source": [
    "full.shape"
   ]
  },
  {
   "cell_type": "code",
   "execution_count": null,
   "metadata": {},
   "outputs": [],
   "source": [
    "# Delete results with standard deviation bigger than one \n",
    "# (they are spurious).\n",
    "\n",
    "full = full[full.std_ <= 1]"
   ]
  },
  {
   "cell_type": "code",
   "execution_count": null,
   "metadata": {},
   "outputs": [],
   "source": [
    "full.shape"
   ]
  },
  {
   "cell_type": "code",
   "execution_count": null,
   "metadata": {},
   "outputs": [],
   "source": [
    "# Write the pandas data frame to the SQL db.\n",
    "\n",
    "conn = sqlite3.connect(db_filename)\n",
    "full.to_sql('temporal_mean_results', conn, index=False)\n",
    "conn.close()"
   ]
  },
  {
   "cell_type": "code",
   "execution_count": null,
   "metadata": {},
   "outputs": [],
   "source": []
  },
  {
   "cell_type": "code",
   "execution_count": null,
   "metadata": {},
   "outputs": [],
   "source": []
  }
 ],
 "metadata": {
  "kernelspec": {
   "display_name": "Python 3",
   "language": "python",
   "name": "python3"
  },
  "language_info": {
   "codemirror_mode": {
    "name": "ipython",
    "version": 3
   },
   "file_extension": ".py",
   "mimetype": "text/x-python",
   "name": "python",
   "nbconvert_exporter": "python",
   "pygments_lexer": "ipython3",
   "version": "3.6.5"
  }
 },
 "nbformat": 4,
 "nbformat_minor": 2
}
