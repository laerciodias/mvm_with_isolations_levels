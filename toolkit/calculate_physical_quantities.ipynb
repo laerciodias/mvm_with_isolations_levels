{
 "cells": [
  {
   "cell_type": "markdown",
   "metadata": {},
   "source": [
    "# In the main branch, this file should be no executed and with no parameters set.\n",
    "# In the development branch, it must be fully executed and must include tests."
   ]
  },
  {
   "cell_type": "markdown",
   "metadata": {},
   "source": [
    "GOAL: calculate the physical quantities (magnetization, susceptibility, binder cumulant, and possible errors) from the raw results stored at an SQLite DB."
   ]
  },
  {
   "cell_type": "code",
   "execution_count": null,
   "metadata": {},
   "outputs": [],
   "source": [
    "%matplotlib inline\n",
    "import matplotlib.pyplot as plt"
   ]
  },
  {
   "cell_type": "code",
   "execution_count": null,
   "metadata": {},
   "outputs": [],
   "source": [
    "import pandas as pd\n",
    "import numpy as np\n",
    "import sqlite3"
   ]
  },
  {
   "cell_type": "markdown",
   "metadata": {},
   "source": [
    "## Parameters"
   ]
  },
  {
   "cell_type": "code",
   "execution_count": null,
   "metadata": {},
   "outputs": [],
   "source": [
    "# Set the filename of the raw results database.\n",
    "# By raw I mean coming directly from simulations.\n",
    "#\n",
    "# Example: 'bubble_filtering__8_neighbors_squared_network.db'\n",
    "\n",
    "db_filename = "
   ]
  },
  {
   "cell_type": "markdown",
   "metadata": {},
   "source": [
    "<br>\n",
    "Hereafter, the code should not be modified at the standard usage."
   ]
  },
  {
   "cell_type": "markdown",
   "metadata": {},
   "source": [
    "## Functions"
   ]
  },
  {
   "cell_type": "code",
   "execution_count": null,
   "metadata": {},
   "outputs": [],
   "source": [
    "def calc_averages(columnLabel, results_df):\n",
    "    '''\n",
    "    Calculate the means for grouped values of columnLabel.\n",
    "    \n",
    "    Parameters:\n",
    "    columnLabel should be in ['mT', 'm2T', 'm4T'].\n",
    "    results_df contains the temporal averages.\n",
    "    \n",
    "    Returns a pandas series of replications and networks averages.\n",
    "    '''\n",
    "    \n",
    "    # Do the mean over the replications\n",
    "    x = pd.DataFrame(results_df.groupby(['v','N','q','net'])[columnLabel].mean())\n",
    "    x.reset_index(inplace=True)\n",
    "    \n",
    "    # Do the mean over the network configuration\n",
    "    x = x.groupby(['v','N','q'])[columnLabel].mean()\n",
    "    \n",
    "    \n",
    "    return x"
   ]
  },
  {
   "cell_type": "markdown",
   "metadata": {},
   "source": [
    "## Main"
   ]
  },
  {
   "cell_type": "code",
   "execution_count": null,
   "metadata": {},
   "outputs": [],
   "source": [
    "# Read the database with pandas\n",
    "\n",
    "conn = sqlite3.connect('../results_databases/' + db_filename)\n",
    "\n",
    "df = pd.read_sql('SELECT * FROM temporal_mean_results', conn,\n",
    "                 index_col = 'index'\n",
    "                )\n",
    "df.sort_values(['v','N','q','net'], inplace=True)\n",
    "\n",
    "conn.close()"
   ]
  },
  {
   "cell_type": "code",
   "execution_count": null,
   "metadata": {},
   "outputs": [],
   "source": [
    "df.head(20)"
   ]
  },
  {
   "cell_type": "code",
   "execution_count": null,
   "metadata": {},
   "outputs": [],
   "source": [
    "# Calculate the physical interesting quantities\n",
    "\n",
    "phys_quant = pd.DataFrame(calc_averages('mT', df))\n",
    "phys_quant.reset_index(inplace=True)\n",
    "phys_quant.rename({'mT': 'M'},axis=1,inplace=True)\n",
    "\n",
    "m2df = calc_averages('m2T', df)\n",
    "m4df = calc_averages('m4T', df)\n",
    "\n",
    "phys_quant['M_err'] = np.array(m2df) - phys_quant['M']**2\n",
    "phys_quant['M_noMod'] = np.array(calc_averages('mT_noMod', df))\n",
    "phys_quant['M_noMod_err'] = np.array(m2df) - phys_quant['M_noMod']**2\n",
    "\n",
    "phys_quant['X'] = phys_quant['N']*phys_quant['M_err']\n",
    "phys_quant['X_noMod'] = phys_quant['N']*phys_quant['M_noMod_err']\n",
    "\n",
    "phys_quant['U'] = 1 - np.array(m4df)/(3*np.array(m2df)**2)\n",
    "\n",
    "phys_quant['u'] = -np.log(1-3*phys_quant['U']/2)"
   ]
  },
  {
   "cell_type": "code",
   "execution_count": null,
   "metadata": {},
   "outputs": [],
   "source": [
    "phys_quant.head(20)"
   ]
  },
  {
   "cell_type": "code",
   "execution_count": null,
   "metadata": {},
   "outputs": [],
   "source": [
    "# Persist the data frame\n",
    "\n",
    "# Comment the exception raising to persist the data frame\n",
    "raise Exception('Do not execute this cell accidentally.')\n",
    "\n",
    "phys_quant.to_csv(\n",
    "    '../results_databases/' + db_filename[:-3] + '__MXU.csv')"
   ]
  },
  {
   "cell_type": "code",
   "execution_count": null,
   "metadata": {},
   "outputs": [],
   "source": []
  },
  {
   "cell_type": "code",
   "execution_count": null,
   "metadata": {},
   "outputs": [],
   "source": []
  },
  {
   "cell_type": "code",
   "execution_count": null,
   "metadata": {},
   "outputs": [],
   "source": []
  },
  {
   "cell_type": "code",
   "execution_count": null,
   "metadata": {},
   "outputs": [],
   "source": []
  }
 ],
 "metadata": {
  "kernelspec": {
   "display_name": "Python 3",
   "language": "python",
   "name": "python3"
  },
  "language_info": {
   "codemirror_mode": {
    "name": "ipython",
    "version": 3
   },
   "file_extension": ".py",
   "mimetype": "text/x-python",
   "name": "python",
   "nbconvert_exporter": "python",
   "pygments_lexer": "ipython3",
   "version": "3.6.5"
  }
 },
 "nbformat": 4,
 "nbformat_minor": 2
}
