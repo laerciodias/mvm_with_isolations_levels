{
 "cells": [
  {
   "cell_type": "markdown",
   "metadata": {},
   "source": [
    "# In the main branch, this file should be no executed and with no parameters set.\n",
    "# In the development branch, it must be fully executed and must include tests."
   ]
  },
  {
   "cell_type": "markdown",
   "metadata": {},
   "source": [
    "GOAL: calculate the physical quantities (magnetization, susceptibility, binder cumulant, and possible errors) from the raw results stored at an SQLite DB."
   ]
  },
  {
   "cell_type": "code",
   "execution_count": null,
   "metadata": {},
   "outputs": [],
   "source": [
    "%matplotlib inline\n",
    "import matplotlib.pyplot as plt"
   ]
  },
  {
   "cell_type": "code",
   "execution_count": null,
   "metadata": {},
   "outputs": [],
   "source": [
    "import pandas as pd\n",
    "import numpy as np\n",
    "import sqlite3"
   ]
  },
  {
   "cell_type": "markdown",
   "metadata": {},
   "source": [
    "## Parameters"
   ]
  },
  {
   "cell_type": "code",
   "execution_count": null,
   "metadata": {},
   "outputs": [],
   "source": [
    "# Set the filename of the raw results database.\n",
    "# By raw I mean coming directly from simulations.\n",
    "#\n",
    "# Example: \n",
    "#\n",
    "# db_filename = 'bubble_filtering__8_neighbors_squared_network.db'\n",
    "\n",
    "db_filename = "
   ]
  },
  {
   "cell_type": "markdown",
   "metadata": {},
   "source": [
    "<br>\n",
    "Hereafter, the code should not be modified at the standard usage."
   ]
  },
  {
   "cell_type": "markdown",
   "metadata": {},
   "source": [
    "## Definitions\n",
    "\n",
    "Here I write the definitions used to obtain the relevant physical quantities: magnetization, susceptibility, and Binder cumulant.\n",
    "\n",
    "<b>Conventions</b>:\n",
    "\n",
    "    - Mean of a random variable X:\n",
    "<center><font size=\"5\">$<X>_{t} = \\hat{\\mu}_{t}(X) = \\frac{1}{T} \\sum_{t=1}^{T} X_{t}$</font></center>\n",
    "    \n",
    "    - Standard deviation:\n",
    "<center><font size=\"5\">$std_{t}(X) = \\hat{\\sigma}_{t}(X) = \\sqrt{\\frac{1}{T-1}\\sum_{t=1}^{T} (X_{t} - \\hat{\\mu}(X))^2}$</font></center>\n",
    "\n",
    "    - Magnetization for a given time t and configuration c, as a function of the visibility v, network size N, and noise q:\n",
    "<center><font size=\"5\">$M_{tc}(v, N, q) = m_{tc}$</font></center>\n",
    "\n",
    "<b>Physical Quantities</b>:\n",
    "\n",
    "    - Magnetization:\n",
    "<center><font size=\"5\">$M(v, N, q) = \\hat{\\mu}_{c}(\\hat{\\mu}_{t}(m_{tc}))$</font></center>\n",
    "\n",
    "    - Magnetization error:\n",
    "<center><font size=\"5\">$\\Delta M(v, N, q) = \\hat{\\sigma}_{c}(\\hat{\\mu}_{t}(m_{tc}))$</font></center>\n",
    "\n",
    "    - Susceptibility:\n",
    "<center><font size=\"5\">$\\chi(v, N, q) = \\hat{\\mu}_{c}\\left(N\\left\\{\\hat{\\mu}_{t}(m_{tc}^{2}) - [\\hat{\\mu}_{t}(m_{tc})]^{2} \\right\\}\\right)$</font></center>\n",
    "\n",
    "    - Susceptibility error:\n",
    "<center><font size=\"5\">$\\Delta \\chi(v, N, q) = \\hat{\\sigma}_{c}\\left(N\\left\\{\\hat{\\mu}_{t}(m_{tc}^{2}) - [\\hat{\\mu}_{t}(m_{tc})]^{2} \\right\\}\\right)$</font></center>\n",
    "\n",
    "    - Binder cumulant:\n",
    "<center><font size=\"5\">$U(v, N, q) = \\hat{\\mu}_{c}\\left( 1 - \\hat{\\mu}_{t}(m_{tc}^{4})\\hspace{1mm}/\\hspace{1mm} 3\\hat{\\mu}_{t}(m_{tc}^{2}) \\right)$</font></center>\n",
    "\n",
    "    - Binder cumulant error:\n",
    "<center><font size=\"5\">$\\Delta U(v, N, q) = \\hat{\\sigma}_{c}\\left( 1 - \\hat{\\mu}_{t}(m_{tc}^{4})\\hspace{1mm}/\\hspace{1mm} 3\\hat{\\mu}_{t}(m_{tc}^{2}) \\right)$</font></center>\n",
    "\n",
    "Remember that np.std computes the biased standard deviation while pandas calculates the non-biased."
   ]
  },
  {
   "cell_type": "markdown",
   "metadata": {},
   "source": [
    "## Functions"
   ]
  },
  {
   "cell_type": "code",
   "execution_count": null,
   "metadata": {},
   "outputs": [],
   "source": [
    "def calc_X_and_U(df):\n",
    "    '''\n",
    "    Calculate Susceptibility and Binder cumulant for each configuration in the results.\n",
    "    '''\n",
    "    \n",
    "    df = df.sort_values(['v', 'N', 'q', 'net', 'rep'])\n",
    "    df['X'] = df['N']*(df['m2T'] - df['mT']**2)\n",
    "    df['X_noMod'] = df['N']*(df['m2T'] - df['mT_noMod']**2)\n",
    "    df['U'] = 1 - df['m4T']/(3*df['m2T']**2)\n",
    "    df['u'] = -np.log(1 - 3*df['U']/2)\n",
    "    \n",
    "    return df"
   ]
  },
  {
   "cell_type": "code",
   "execution_count": null,
   "metadata": {},
   "outputs": [],
   "source": [
    "def calc_averages(columnLabel, results_df, new_label = ''):\n",
    "    '''\n",
    "    Calculate the means for grouped values of columnLabel.\n",
    "    \n",
    "    Parameters:\n",
    "    columnLabel should be in ['mT', 'm2T', 'm4T'].\n",
    "    results_df contains the temporal averages.\n",
    "    \n",
    "    Returns a pandas series of replications and networks averages.\n",
    "    '''\n",
    "    \n",
    "    # Do the mean over the replications\n",
    "    x = pd.DataFrame(results_df.groupby(['v','N','q'])[columnLabel].mean())\n",
    "    \n",
    "    if new_label != '':\n",
    "        x.rename({columnLabel: new_label},axis=1,inplace=True)\n",
    "    \n",
    "    return x\n",
    "\n",
    "\n",
    "\n",
    "def calc_avg_std(df_grouped, columnLabel, func, new_label = ''):\n",
    "    '''\n",
    "    Calculate the average or standard deviation for grouped values of columnLabel.\n",
    "    \n",
    "    Parameters:\n",
    "    columnLabel should be in ['mT', 'mT_noMod', 'X', 'X_noMod', 'U', 'u'].\n",
    "    func should be in ['mean', 'std'].\n",
    "    df_grouped contains the temporal averages grouped by v,N,q.\n",
    "    \n",
    "    Returns a pandas series of configurations averages or standard deviations.\n",
    "    '''\n",
    "    \n",
    "    # Do the mean over the replications\n",
    "    if func == 'mean':\n",
    "        x = pd.DataFrame(df_grouped[columnLabel].mean())\n",
    "    elif func == 'std':\n",
    "        x = pd.DataFrame(df_grouped[columnLabel].std())\n",
    "    else:\n",
    "        raise Exception(\"Parameter func should be in ['mean', 'std']\")\n",
    "    \n",
    "    if new_label != '':\n",
    "        x.rename({columnLabel: new_label},axis=1,inplace=True)\n",
    "    \n",
    "    return x"
   ]
  },
  {
   "cell_type": "code",
   "execution_count": null,
   "metadata": {},
   "outputs": [],
   "source": [
    "# Calculate the physical interesting quantities\n",
    "\n",
    "def calculate_physical_quantities(df):\n",
    "    '''\n",
    "    \n",
    "    '''\n",
    "    \n",
    "    df_grouped = df.groupby(['v','N','q'])\n",
    "\n",
    "    M       = calc_avg_std(df_grouped, 'mT'      , 'mean', 'M')\n",
    "    M_noMod = calc_avg_std(df_grouped, 'mT_noMod', 'mean', 'M_noMod')\n",
    "    X       = calc_avg_std(df_grouped, 'X'       , 'mean')\n",
    "    X_noMod = calc_avg_std(df_grouped, 'X_noMod' , 'mean')\n",
    "    U       = calc_avg_std(df_grouped, 'U'       , 'mean')\n",
    "    u       = calc_avg_std(df_grouped, 'u'       , 'mean')\n",
    "\n",
    "    M_err       = calc_avg_std(df_grouped, 'mT'      , 'std', 'M_err')\n",
    "    M_noMod_err = calc_avg_std(df_grouped, 'mT_noMod', 'std', 'M_noMod_err')\n",
    "    X_err       = calc_avg_std(df_grouped, 'X'       , 'std', 'X_err')\n",
    "    X_noMod_err = calc_avg_std(df_grouped, 'X_noMod' , 'std', 'X_noMod_err')\n",
    "    U_err       = calc_avg_std(df_grouped, 'U'       , 'std', 'U_err')\n",
    "    u_err       = calc_avg_std(df_grouped, 'u'       , 'std', 'u_err')\n",
    "\n",
    "    pq = M.join([M_err, M_noMod, M_noMod_err, \n",
    "                X, X_err, X_noMod, X_noMod_err, \n",
    "                U, U_err, u, u_err])\n",
    "    \n",
    "    return pq\n",
    "\n",
    "\n",
    "\n",
    "def calculate_physical_quantities__OLD(df):\n",
    "    \n",
    "    \n",
    "    phys_quant = pd.DataFrame(calc_averages('mT', df))\n",
    "    phys_quant.reset_index(inplace=True)\n",
    "    phys_quant.rename({'mT': 'M'},axis=1,inplace=True)\n",
    "\n",
    "    m2df = calc_averages('m2T', df)\n",
    "    m4df = calc_averages('m4T', df)\n",
    "    \n",
    "    phys_quant['M_err'] = np.array(m2df.m2T) - phys_quant['M']**2\n",
    "    phys_quant['M_noMod'] = np.array(calc_averages('mT_noMod', df))\n",
    "    phys_quant['M_noMod_err'] = np.array(m2df.m2T) - phys_quant['M_noMod']**2\n",
    "\n",
    "    phys_quant['X'] = phys_quant['N']*phys_quant['M_err']\n",
    "    phys_quant['X_noMod'] = phys_quant['N']*phys_quant['M_noMod_err']\n",
    "\n",
    "    phys_quant['U'] = 1 - np.array(m4df.m4T)/(3*np.array(m2df.m2T)**2)\n",
    "\n",
    "    phys_quant['u'] = -np.log(1-3*phys_quant['U']/2)\n",
    "    \n",
    "    return phys_quant"
   ]
  },
  {
   "cell_type": "markdown",
   "metadata": {},
   "source": [
    "## Main"
   ]
  },
  {
   "cell_type": "code",
   "execution_count": null,
   "metadata": {},
   "outputs": [],
   "source": [
    "# Read the database with pandas\n",
    "\n",
    "conn = sqlite3.connect('../results_databases/' + db_filename)\n",
    "df = pd.read_sql('SELECT * FROM temporal_mean_results', conn)\n",
    "conn.close()\n",
    "\n",
    "# Calculate the susceptibility and the binder cumulant.\n",
    "df = calc_X_and_U(df)\n",
    "\n",
    "# Calculate the physical quantities.\n",
    "phys_quant = calculate_physical_quantities(df)\n",
    "phys_quant.reset_index(inplace=True)"
   ]
  },
  {
   "cell_type": "code",
   "execution_count": null,
   "metadata": {},
   "outputs": [],
   "source": [
    "# Persist the data frame\n",
    "\n",
    "# Comment the exception raising to persist the data frame\n",
    "raise Exception('Do not execute this cell accidentally.')\n",
    "\n",
    "phys_quant.to_csv(\n",
    "    '../results_databases/' + db_filename[:-3] + '__MXU.csv')"
   ]
  },
  {
   "cell_type": "markdown",
   "metadata": {},
   "source": [
    "<br><br>\n",
    "## Testing"
   ]
  },
  {
   "cell_type": "code",
   "execution_count": null,
   "metadata": {},
   "outputs": [],
   "source": [
    "#The test below is just a check. \n",
    "# Once I know some plot for the physical quantities \n",
    "# I am just doing a visual inspection."
   ]
  },
  {
   "cell_type": "code",
   "execution_count": null,
   "metadata": {},
   "outputs": [],
   "source": [
    "phys_quant.head()"
   ]
  },
  {
   "cell_type": "code",
   "execution_count": null,
   "metadata": {},
   "outputs": [],
   "source": [
    "x = phys_quant[phys_quant.v == 1]\n",
    "N = x.N.unique()\n",
    "x.set_index(['N','q'], inplace=True)\n",
    "for n in N:\n",
    "    x.loc[n].M.plot(label=n)\n",
    "plt.title('Magnetization (absolute value before temporal avg.')\n",
    "plt.legend(loc=(1.05,0))\n",
    "plt.show()\n",
    "\n",
    "for n in N:\n",
    "    x.loc[n].u.plot(label=n)\n",
    "plt.title('Binder cumulant')\n",
    "plt.legend(loc=(1.05,0))\n",
    "plt.show()"
   ]
  },
  {
   "cell_type": "code",
   "execution_count": null,
   "metadata": {},
   "outputs": [],
   "source": [
    "x = phys_quant[phys_quant.v == 0.4]\n",
    "N = x.N.unique()\n",
    "x.set_index(['N','q'], inplace=True)\n",
    "for n in N:\n",
    "    x.loc[n].M.plot(label=n)\n",
    "plt.title('Magnetization (absolute value before temporal avg.')\n",
    "plt.legend(loc=(1.05,0))\n",
    "plt.show()\n",
    "\n",
    "for n in N:\n",
    "    x.loc[n].u.plot(label=n)\n",
    "plt.title('Binder cumulant')\n",
    "plt.legend(loc=(1.05,0))\n",
    "plt.show()"
   ]
  },
  {
   "cell_type": "code",
   "execution_count": null,
   "metadata": {},
   "outputs": [],
   "source": [
    "x = phys_quant[phys_quant.v == 0.25]\n",
    "N = x.N.unique()\n",
    "x.set_index(['N','q'], inplace=True)\n",
    "for n in N:\n",
    "    x.loc[n].M.plot(label=n)\n",
    "plt.title('Magnetization (absolute value before temporal avg.')\n",
    "plt.legend(loc=(1.05,0))\n",
    "plt.show()\n",
    "\n",
    "for n in N:\n",
    "    x.loc[n].u.plot(label=n)\n",
    "plt.title('Binder cumulant')\n",
    "plt.legend(loc=(1.05,0))\n",
    "plt.show()"
   ]
  },
  {
   "cell_type": "code",
   "execution_count": null,
   "metadata": {},
   "outputs": [],
   "source": []
  },
  {
   "cell_type": "code",
   "execution_count": null,
   "metadata": {},
   "outputs": [],
   "source": []
  }
 ],
 "metadata": {
  "kernelspec": {
   "display_name": "Python 3",
   "language": "python",
   "name": "python3"
  },
  "language_info": {
   "codemirror_mode": {
    "name": "ipython",
    "version": 3
   },
   "file_extension": ".py",
   "mimetype": "text/x-python",
   "name": "python",
   "nbconvert_exporter": "python",
   "pygments_lexer": "ipython3",
   "version": "3.6.5"
  }
 },
 "nbformat": 4,
 "nbformat_minor": 2
}
