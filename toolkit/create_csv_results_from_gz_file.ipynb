{
 "cells": [
  {
   "cell_type": "markdown",
   "metadata": {},
   "source": [
    "# In the main branch, this file should be no executed and with no parameters set.\n",
    "# In the development branch, it must be fully executed and must include tests."
   ]
  },
  {
   "cell_type": "markdown",
   "metadata": {},
   "source": [
    "GOAL: generate a CSV result file from raw results files compressed at a GZ file."
   ]
  },
  {
   "cell_type": "code",
   "execution_count": null,
   "metadata": {},
   "outputs": [],
   "source": [
    "import subprocess as __cmd\n",
    "import numpy as __np\n",
    "import pandas as __pd\n",
    "import os as __os\n",
    "import sys as __sys"
   ]
  },
  {
   "cell_type": "markdown",
   "metadata": {},
   "source": [
    "## Parameters"
   ]
  },
  {
   "cell_type": "code",
   "execution_count": null,
   "metadata": {},
   "outputs": [],
   "source": [
    "# Set path for the GZ file containg the raw results files \n",
    "# (must ends with a slash) and the GZ file name.\n",
    "# By raw I mean coming directly from simulations.\n",
    "#\n",
    "# Example: \n",
    "#\n",
    "# path = '/home/laercio/Dropbox/pesquisa/2017-voterModel/'\n",
    "# path += 'code/resultados_e_analises/'\n",
    "# path += '002__bubble_filtering__8_neighbors_squared_network/'\n",
    "# path += 'raw_results/'     # Too long path... does not fit my screen.\n",
    "#\n",
    "# The file name\n",
    "# gz = 'test.tar.gz'\n",
    "\n",
    "\n",
    "# The path for the gz file (must ends with a slash).\n",
    "path = '/home/laercio/Dropbox/pesquisa/2017-voterModel/'\n",
    "path += 'code/resultados_e_analises/'\n",
    "path += '002__bubble_filtering__8_neighbors_squared_network/'\n",
    "path += 'raw_results/'     # Too long path... does not fit my screen.\n",
    "\n",
    "# The file name\n",
    "gz = 'test.tar.gz'"
   ]
  },
  {
   "cell_type": "markdown",
   "metadata": {},
   "source": [
    "<br>\n",
    "Hereafter, the code should not be modified at the standard usage."
   ]
  },
  {
   "cell_type": "markdown",
   "metadata": {},
   "source": [
    "## Functions"
   ]
  },
  {
   "cell_type": "code",
   "execution_count": null,
   "metadata": {},
   "outputs": [],
   "source": [
    "# The idea to pick all the results from each raw result file is \n",
    "# to read the simulation parameters from the file name, \n",
    "# read the results in the file, create a list, \n",
    "# and attach to a big list. In the end, generate a pandas data frame \n",
    "# using the big list.\n",
    "\n",
    "def get_results(resultsPath, programNickname):\n",
    "    \n",
    "    # Get the list of results files names\n",
    "    ls = __os.listdir(resultsPath)\n",
    "    ls = [i for i in ls if i.startswith(programNickname) \n",
    "          and i.endswith('_m')]\n",
    "    ls.sort()\n",
    "    \n",
    "    dataMatrix = []\n",
    "    \n",
    "    # f - filename\n",
    "    for f in ls:\n",
    "        \n",
    "        # get n\n",
    "        i1 = f.find('N_') + 2\n",
    "        i2 = f[i1:].find('__q') + i1\n",
    "        n = int(f[i1:i2])\n",
    "        \n",
    "        # get q\n",
    "        i1 = f.find('q_') + 2\n",
    "        i2 = f[i1:].find('__') + i1\n",
    "        q = float(f[i1:i2])\n",
    "        \n",
    "        # get network label\n",
    "        p = f.find('net_')\n",
    "        if p != -1:\n",
    "            i1 = f.find('net_') + 4\n",
    "            i2 = i1 + f[i1:].find('_rep')\n",
    "            net = int(f[i1:i2])\n",
    "        else:\n",
    "            net = -1\n",
    "        \n",
    "        # get replication label\n",
    "        i1 = f.find('rep_') + 4\n",
    "        i2 = i1 + f[i1:].find('_m')\n",
    "        rep = int(f[i1:i2])\n",
    "        \n",
    "        data = __np.loadtxt(resultsPath+f)\n",
    "        \n",
    "        if len(data) == 4:\n",
    "            mT,m2T,m4T,mT_noMod = data\n",
    "            std = __np.sqrt(m2T - mT**2)\n",
    "            std_noMod = __np.sqrt(m2T - mT_noMod**2)\n",
    "            \n",
    "        elif len(data) == 3:\n",
    "            mT,m2T,m4T = data\n",
    "            mT_noMod = __np.nan\n",
    "            std = __np.sqrt(m2T - mT**2)\n",
    "            std_noMod = __np.nan            \n",
    "        else:\n",
    "            raise Exception(\n",
    "'Each raw result file should contain just three or four values.')\n",
    "        \n",
    "        dataMatrix.append([n,q,net,rep,mT,m2T,m4T,mT_noMod,\n",
    "                           std,std_noMod])\n",
    "    \n",
    "    df = __pd.DataFrame(dataMatrix, \n",
    "                columns=['N','q','net','rep','mT','m2T','m4T',\n",
    "                         'mT_noMod', 'std_', 'std_noMod'])\n",
    "    \n",
    "    df.sort_values(['N','q','net','rep'],inplace=True)\n",
    "    \n",
    "    return df"
   ]
  },
  {
   "cell_type": "markdown",
   "metadata": {},
   "source": [
    "## Main"
   ]
  },
  {
   "cell_type": "code",
   "execution_count": null,
   "metadata": {},
   "outputs": [],
   "source": [
    "path_temp = '/home/laercio/temp1977/'"
   ]
  },
  {
   "cell_type": "code",
   "execution_count": null,
   "metadata": {},
   "outputs": [],
   "source": [
    "# Create a temporary folder.\n",
    "__cmd.getoutput(\"mkdir %s\" % path_temp)"
   ]
  },
  {
   "cell_type": "code",
   "execution_count": null,
   "metadata": {},
   "outputs": [],
   "source": [
    "# Copy the gz file to the temporary folder.\n",
    "__cmd.getoutput(\"cp %s%s %s\" % (path, gz, path_temp))"
   ]
  },
  {
   "cell_type": "code",
   "execution_count": null,
   "metadata": {},
   "outputs": [],
   "source": [
    "# Uncompress the results.\n",
    "__cmd.getoutput(\"tar -zxf %s%s -C %s\" % (path_temp, gz, path_temp))"
   ]
  },
  {
   "cell_type": "code",
   "execution_count": null,
   "metadata": {},
   "outputs": [],
   "source": [
    "# Delete gz and execInfo files from the temporary folder.\n",
    "print(__cmd.getoutput(\"rm -v %s%s\" % (path_temp, gz)))\n",
    "print(__cmd.getoutput(\"rm -v %sexecInfo.txt\" % path_temp))"
   ]
  },
  {
   "cell_type": "code",
   "execution_count": null,
   "metadata": {},
   "outputs": [],
   "source": [
    "# Create a results data frame from the raw results files.\n",
    "%time results = get_results(path_temp, '')"
   ]
  },
  {
   "cell_type": "code",
   "execution_count": null,
   "metadata": {},
   "outputs": [],
   "source": [
    "# Count the number of files in the temporary folder.\n",
    "__cmd.getoutput(\"ls %s -1 | wc -l\" % path_temp)"
   ]
  },
  {
   "cell_type": "code",
   "execution_count": null,
   "metadata": {},
   "outputs": [],
   "source": [
    "# The size of the results data frame must be equals to the above number.\n",
    "len(results)"
   ]
  },
  {
   "cell_type": "code",
   "execution_count": null,
   "metadata": {},
   "outputs": [],
   "source": [
    "# Reset the results data frame index.\n",
    "results.reset_index(drop=True, inplace=True)"
   ]
  },
  {
   "cell_type": "code",
   "execution_count": null,
   "metadata": {},
   "outputs": [],
   "source": [
    "# Reset the results data frame index.\n",
    "results.to_csv(path + gz[:-7] + '.csv')"
   ]
  },
  {
   "cell_type": "code",
   "execution_count": null,
   "metadata": {},
   "outputs": [],
   "source": [
    "# Delete the temporary folder and its content.\n",
    "__cmd.getoutput(\"rm -r %s\" % path_temp)"
   ]
  },
  {
   "cell_type": "markdown",
   "metadata": {},
   "source": [
    "## Testing"
   ]
  },
  {
   "cell_type": "code",
   "execution_count": null,
   "metadata": {},
   "outputs": [],
   "source": [
    "# To test this code consists of copy a test.tar.gz for the \n",
    "# indicated path, run the notebook, and check if a data frame \n",
    "# with the results was created.\n",
    "#\n",
    "# The above outputs were produced when it tested the notebook."
   ]
  },
  {
   "cell_type": "code",
   "execution_count": null,
   "metadata": {},
   "outputs": [],
   "source": []
  },
  {
   "cell_type": "code",
   "execution_count": null,
   "metadata": {},
   "outputs": [],
   "source": []
  },
  {
   "cell_type": "code",
   "execution_count": null,
   "metadata": {},
   "outputs": [],
   "source": []
  },
  {
   "cell_type": "code",
   "execution_count": null,
   "metadata": {},
   "outputs": [],
   "source": []
  },
  {
   "cell_type": "code",
   "execution_count": null,
   "metadata": {},
   "outputs": [],
   "source": []
  },
  {
   "cell_type": "code",
   "execution_count": null,
   "metadata": {},
   "outputs": [],
   "source": []
  },
  {
   "cell_type": "code",
   "execution_count": null,
   "metadata": {},
   "outputs": [],
   "source": []
  },
  {
   "cell_type": "code",
   "execution_count": null,
   "metadata": {},
   "outputs": [],
   "source": []
  },
  {
   "cell_type": "code",
   "execution_count": null,
   "metadata": {},
   "outputs": [],
   "source": []
  },
  {
   "cell_type": "code",
   "execution_count": null,
   "metadata": {},
   "outputs": [],
   "source": []
  }
 ],
 "metadata": {
  "kernelspec": {
   "display_name": "Python 3",
   "language": "python",
   "name": "python3"
  },
  "language_info": {
   "codemirror_mode": {
    "name": "ipython",
    "version": 3
   },
   "file_extension": ".py",
   "mimetype": "text/x-python",
   "name": "python",
   "nbconvert_exporter": "python",
   "pygments_lexer": "ipython3",
   "version": "3.6.5"
  }
 },
 "nbformat": 4,
 "nbformat_minor": 2
}
