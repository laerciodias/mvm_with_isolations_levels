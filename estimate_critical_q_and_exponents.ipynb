{
 "cells": [
  {
   "cell_type": "markdown",
   "metadata": {},
   "source": [
    "# In the main branch, this file should be no executed and with no parameters set.\n",
    "# In the development branch, it must be fully executed and must include tests."
   ]
  },
  {
   "cell_type": "code",
   "execution_count": null,
   "metadata": {},
   "outputs": [],
   "source": [
    "%matplotlib inline\n",
    "import matplotlib.pyplot as plt"
   ]
  },
  {
   "cell_type": "code",
   "execution_count": null,
   "metadata": {},
   "outputs": [],
   "source": [
    "import pandas as pd\n",
    "import numpy as np\n",
    "\n",
    "import estimate_critical_q as est_qc\n",
    "import estimate_exponents as est_exps\n",
    "import tools"
   ]
  },
  {
   "cell_type": "markdown",
   "metadata": {},
   "source": [
    "## Notebook Parameters"
   ]
  },
  {
   "cell_type": "code",
   "execution_count": null,
   "metadata": {},
   "outputs": [],
   "source": [
    "# Set the filename of the database and the visibility parameter v\n",
    "# Example: \n",
    "#\n",
    "# db_path = 'test__phys_quant.csv'\n",
    "# v = 0.5\n",
    "# \n",
    "# OBS: At the development time the file test__full.csv was a copy of\n",
    "# results_databases/bubble_filtering__8_neighbors_squared_network__MXU.csv\n",
    "\n",
    "db_path = \n",
    "v = "
   ]
  },
  {
   "cell_type": "markdown",
   "metadata": {},
   "source": [
    "Hereafter, the code should not be modified at the standard usage."
   ]
  },
  {
   "cell_type": "markdown",
   "metadata": {},
   "source": [
    "## Main"
   ]
  },
  {
   "cell_type": "code",
   "execution_count": null,
   "metadata": {},
   "outputs": [],
   "source": [
    "# Read the physical quantities database\n",
    "full = pd.read_csv(db_path, index_col=0)\n",
    "\n",
    "# Select the data corresponding to the given visibility v.\n",
    "phys_quant = full[full.v == v]\n",
    "\n",
    "# Get the number of sites\n",
    "N = phys_quant.N.unique()\n",
    "\n",
    "# Set the index to N and q\n",
    "phys_quant.set_index(['N','q'], inplace=True)\n",
    "\n",
    "print('N =', N)"
   ]
  },
  {
   "cell_type": "code",
   "execution_count": null,
   "metadata": {},
   "outputs": [],
   "source": [
    "phys_quant.head()"
   ]
  },
  {
   "cell_type": "code",
   "execution_count": null,
   "metadata": {},
   "outputs": [],
   "source": [
    "qc, qc_error, best_regs, binder = est_qc.estimate(N[:], phys_quant, \n",
    "                                               min_half_bandwidth=2,\n",
    "                                               max_half_bandwidth=4,\n",
    "                                               do_plot=True)"
   ]
  },
  {
   "cell_type": "code",
   "execution_count": null,
   "metadata": {},
   "outputs": [],
   "source": [
    "qc"
   ]
  },
  {
   "cell_type": "code",
   "execution_count": null,
   "metadata": {},
   "outputs": [],
   "source": [
    "qc_error"
   ]
  },
  {
   "cell_type": "code",
   "execution_count": null,
   "metadata": {},
   "outputs": [],
   "source": [
    "binder"
   ]
  },
  {
   "cell_type": "code",
   "execution_count": null,
   "metadata": {},
   "outputs": [],
   "source": [
    "best_regs"
   ]
  },
  {
   "cell_type": "code",
   "execution_count": null,
   "metadata": {},
   "outputs": [],
   "source": [
    "tools.express_measure_with_error(qc, qc_error, label=\"q_c\")"
   ]
  },
  {
   "cell_type": "markdown",
   "metadata": {},
   "source": [
    "### <font color='red'> Remember to set the same value ('L' or 'N' ) for the parameter 'scale_var' in below method calls.</font>"
   ]
  },
  {
   "cell_type": "code",
   "execution_count": null,
   "metadata": {},
   "outputs": [],
   "source": [
    "beta_nu, beta_nu_err, _1, _2, _3 = est_exps.estimate_exponent(\n",
    "                                    'beta_nu', qc, N[:], \n",
    "                                    phys_quant, scale_var='N', \n",
    "                                    do_plot=True)"
   ]
  },
  {
   "cell_type": "code",
   "execution_count": null,
   "metadata": {},
   "outputs": [],
   "source": [
    "gamma_nu, gamma_nu_err, _1, _2, _3 = est_exps.estimate_exponent(\n",
    "                                    'gamma_nu', qc, N[:], \n",
    "                                    phys_quant, scale_var='N', \n",
    "                                    do_plot=True)"
   ]
  },
  {
   "cell_type": "code",
   "execution_count": null,
   "metadata": {},
   "outputs": [],
   "source": [
    "inv_nu, inv_nu_err, _1, _2, _3 = est_exps.estimate_exponent(\n",
    "                                    'inv_nu', qc, N[:], \n",
    "                                    phys_quant, scale_var='N', \n",
    "                                    do_plot=True)"
   ]
  },
  {
   "cell_type": "code",
   "execution_count": null,
   "metadata": {},
   "outputs": [],
   "source": [
    "D, D_err = est_exps.estimate_D(beta_nu, beta_nu_err, \n",
    "                               gamma_nu, gamma_nu_err)\n",
    "print(tools.express_measure_with_error(D, D_err, label='D'))"
   ]
  },
  {
   "cell_type": "code",
   "execution_count": null,
   "metadata": {},
   "outputs": [],
   "source": [
    "est_exps.data_collapse(qc, beta_nu, gamma_nu, inv_nu, N[:],\n",
    "              phys_quant, scale_var='N', quantities_labels=['M',\"X\"])\n",
    "#plt.xlim(-10,10)\n",
    "#plt.yscale('log')"
   ]
  },
  {
   "cell_type": "markdown",
   "metadata": {},
   "source": [
    "<br><br>\n",
    "## Testing"
   ]
  },
  {
   "cell_type": "code",
   "execution_count": null,
   "metadata": {},
   "outputs": [],
   "source": [
    "# I tested the class estimate_critical_q at \n",
    "# estimate_critical_q__TESTS.py and estimate_exponents__TESTS.py. \n",
    "# Here I will not make any tests."
   ]
  },
  {
   "cell_type": "code",
   "execution_count": null,
   "metadata": {},
   "outputs": [],
   "source": []
  },
  {
   "cell_type": "code",
   "execution_count": null,
   "metadata": {},
   "outputs": [],
   "source": []
  },
  {
   "cell_type": "code",
   "execution_count": null,
   "metadata": {},
   "outputs": [],
   "source": []
  },
  {
   "cell_type": "code",
   "execution_count": null,
   "metadata": {},
   "outputs": [],
   "source": []
  }
 ],
 "metadata": {
  "kernelspec": {
   "display_name": "Python 3",
   "language": "python",
   "name": "python3"
  },
  "language_info": {
   "codemirror_mode": {
    "name": "ipython",
    "version": 3
   },
   "file_extension": ".py",
   "mimetype": "text/x-python",
   "name": "python",
   "nbconvert_exporter": "python",
   "pygments_lexer": "ipython3",
   "version": "3.6.5"
  }
 },
 "nbformat": 4,
 "nbformat_minor": 2
}
